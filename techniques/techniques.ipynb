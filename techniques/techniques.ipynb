{
 "cells": [
  {
   "cell_type": "code",
   "execution_count": 1,
   "metadata": {},
   "outputs": [],
   "source": [
    "import numpy as np\n",
    "import csv\n",
    "import scipy\n",
    "from sklearn.model_selection import train_test_split\n",
    "\n",
    "\n",
    "\n",
    "tlist = scipy.io.loadmat('Heston' + '_tlist.mat')\n",
    "tlist = tlist['tlist'] # note that they are 2D array \n",
    "tlist = tlist.reshape((-1))\n",
    "# Klist = scipy.io.loadmat('msft_Klist.mat')\n",
    "Klist = scipy.io.loadmat('Heston' + '_Klist.mat')\n",
    "Klist = Klist['Klist'] # note that they are 2D array\n",
    "Klist = Klist.reshape((-1))\n",
    "totalvarsurface = scipy.io.loadmat('HestonIVSgrid_NI91529.mat')\n",
    "# totalvarsurface = scipy.io.loadmat('HestonIVSgrid_NI.mat')\n",
    "# totalvarsurface = scipy.io.loadmat('HestonIVSgrid_NI87527.mat')\n",
    "\n",
    "# totalvarsurface = totalvarsurface['totalvarsurface']\n",
    "totalvarsurface = totalvarsurface['HestonIVS2D']\n",
    "IVStrain, IVStest = train_test_split(totalvarsurface, test_size = 0.2, random_state = 42)"
   ]
  },
  {
   "attachments": {},
   "cell_type": "markdown",
   "metadata": {},
   "source": [
    "# Technique 1, initial noise scale\n",
    "\n",
    "Choose $\\sigma_1$ to be as large as the maximum Euclidean Distance between all pairs of training data points"
   ]
  },
  {
   "cell_type": "markdown",
   "metadata": {},
   "source": [
    "## Without scale"
   ]
  },
  {
   "cell_type": "code",
   "execution_count": 2,
   "metadata": {},
   "outputs": [
    {
     "data": {
      "text/plain": [
       "(73223, 8, 8)"
      ]
     },
     "execution_count": 2,
     "metadata": {},
     "output_type": "execute_result"
    }
   ],
   "source": [
    "IVStrain.shape"
   ]
  },
  {
   "cell_type": "code",
   "execution_count": 3,
   "metadata": {},
   "outputs": [
    {
     "data": {
      "text/plain": [
       "(73223, 64)"
      ]
     },
     "execution_count": 3,
     "metadata": {},
     "output_type": "execute_result"
    }
   ],
   "source": [
    "# reshape \n",
    "A = IVStrain.reshape((IVStrain.shape[0], -1))\n",
    "A.shape"
   ]
  },
  {
   "cell_type": "code",
   "execution_count": 117,
   "metadata": {},
   "outputs": [
    {
     "name": "stdout",
     "output_type": "stream",
     "text": [
      "73223\n"
     ]
    }
   ],
   "source": [
    "# for large dataset 'HestonIVSgrid_NI91529.mat'\n",
    "A1 = A[:20000]\n",
    "A2 = A[20000:40000]\n",
    "A3 = A[40000:60000]\n",
    "A4 = A[60000:]\n",
    "print(A1.shape[0] + A2.shape[0] + A3.shape[0] + A4.shape[0])\n",
    "\n",
    "Asublist = [A1,A2,A3,A4]"
   ]
  },
  {
   "cell_type": "code",
   "execution_count": 118,
   "metadata": {},
   "outputs": [],
   "source": [
    "from sklearn.metrics.pairwise import euclidean_distances\n",
    "\n",
    "sigma_1 = 1\n",
    "\n",
    "for i in range(len(Asublist)):\n",
    "    Aslice1 = Asublist[i]\n",
    "    for j in range(i, len(Asublist)):\n",
    "        Aslice2 = Asublist[j]\n",
    "        pairwiseEDs = euclidean_distances(Aslice1, Aslice2)\n",
    "        largestD = np.amax(pairwiseEDs)\n",
    "        if largestD > sigma_1:\n",
    "            sigma_1 = largestD\n",
    "        print(i,j)\n",
    "\n",
    "sigma_1"
   ]
  },
  {
   "cell_type": "code",
   "execution_count": null,
   "metadata": {},
   "outputs": [
    {
     "name": "stdout",
     "output_type": "stream",
     "text": [
      "all combinations need to consider 2680767253.0\n"
     ]
    },
    {
     "data": {
      "text/plain": [
       "True"
      ]
     },
     "execution_count": 30,
     "metadata": {},
     "output_type": "execute_result"
    }
   ],
   "source": [
    "# # all combinations\n",
    "# datasize = A.shape[0]\n",
    "# print('all combinations need to consider', datasize * (datasize-1) / 2)\n",
    "\n",
    "# # combinations we have considered\n",
    "# count = 0\n",
    "# for i in range(len(Asublist)):\n",
    "#     Aslice1 = Asublist[i]\n",
    "#     for j in range(i, len(Asublist)):\n",
    "#         Aslice2 = Asublist[j]\n",
    "#         count += Aslice1.shape[0] * Aslice2.shape[0]\n",
    "\n",
    "# count > datasize * (datasize-1) / 2\n"
   ]
  },
  {
   "cell_type": "code",
   "execution_count": null,
   "metadata": {},
   "outputs": [
    {
     "data": {
      "text/plain": [
       "3.847108426799854"
      ]
     },
     "execution_count": 13,
     "metadata": {},
     "output_type": "execute_result"
    }
   ],
   "source": [
    "# sigma_1"
   ]
  },
  {
   "cell_type": "code",
   "execution_count": 32,
   "metadata": {},
   "outputs": [],
   "source": [
    "from sklearn.metrics.pairwise import euclidean_distances\n",
    "\n",
    "pairwiseED = euclidean_distances(A,A)\n",
    "sigma_1 = np.amax(pairwiseED)"
   ]
  },
  {
   "cell_type": "code",
   "execution_count": 9,
   "metadata": {},
   "outputs": [
    {
     "ename": "NameError",
     "evalue": "name 'sigma_1' is not defined",
     "output_type": "error",
     "traceback": [
      "\u001b[1;31m---------------------------------------------------------------------------\u001b[0m",
      "\u001b[1;31mNameError\u001b[0m                                 Traceback (most recent call last)",
      "Cell \u001b[1;32mIn[9], line 1\u001b[0m\n\u001b[1;32m----> 1\u001b[0m sigma_1\n",
      "\u001b[1;31mNameError\u001b[0m: name 'sigma_1' is not defined"
     ]
    }
   ],
   "source": [
    "sigma_1 "
   ]
  },
  {
   "cell_type": "code",
   "execution_count": null,
   "metadata": {},
   "outputs": [],
   "source": [
    "# Another method, using sklearn.metrics.pairwise_distances\n",
    "from sklearn.metrics import pairwise_distances\n",
    "pairwiseED = pairwise_distances(A,A, metric='euclidean')\n",
    "sigma_1 = np.amax(pairwiseED)"
   ]
  },
  {
   "cell_type": "code",
   "execution_count": null,
   "metadata": {},
   "outputs": [
    {
     "data": {
      "text/plain": [
       "3.782251975058668"
      ]
     },
     "execution_count": 150,
     "metadata": {},
     "output_type": "execute_result"
    }
   ],
   "source": [
    "sigma_1 # give the same answer"
   ]
  },
  {
   "cell_type": "code",
   "execution_count": null,
   "metadata": {},
   "outputs": [
    {
     "data": {
      "text/plain": [
       "3.847108426799854"
      ]
     },
     "execution_count": 31,
     "metadata": {},
     "output_type": "execute_result"
    }
   ],
   "source": [
    "sigma_1"
   ]
  },
  {
   "cell_type": "code",
   "execution_count": 287,
   "metadata": {},
   "outputs": [],
   "source": [
    "# For 87257 dataset, 16 by 16 \n",
    "# sigma_1 = 7.27022"
   ]
  },
  {
   "cell_type": "code",
   "execution_count": 4,
   "metadata": {},
   "outputs": [],
   "source": [
    "# For 91829 dataset, 8 by 8 \n",
    "sigma_1 = 3.84711"
   ]
  },
  {
   "cell_type": "code",
   "execution_count": null,
   "metadata": {},
   "outputs": [],
   "source": [
    "# For original dataset, 8 by 8 \n",
    "# sigma_1 = 3.783"
   ]
  },
  {
   "attachments": {},
   "cell_type": "markdown",
   "metadata": {},
   "source": [
    "# Technique 2, choose $\\gamma = \\frac{\\sigma_{i-1}}{\\sigma_i}$\n",
    "\n",
    "Choose $\\{\\sigma_i\\}^L_{i=1}$ as a geometric progression with common ratio $\\gamma$ such that \n",
    "$\\Phi(\\sqrt{2D} ( \\gamma - 1) + 3 \\gamma) - \\Phi(\\sqrt{2D} (\\gamma - 1 ) - 3 \\gamma ) = C = 0.5$\n",
    "\n",
    "The choice of $C$ is arbitray, motivated by practial experiments in image tasks.\n",
    "\n",
    "Note that $\\gamma = \\frac{\\sigma_{i-1}}{\\sigma_i}$, so $\\gamma > 1$. Recall that $\\sigma_1 < \\sigma_2 < ... < \\sigma_L$"
   ]
  },
  {
   "cell_type": "code",
   "execution_count": 5,
   "metadata": {},
   "outputs": [
    {
     "data": {
      "text/plain": [
       "64"
      ]
     },
     "execution_count": 5,
     "metadata": {},
     "output_type": "execute_result"
    }
   ],
   "source": [
    "D = A.shape[-1]\n",
    "D"
   ]
  },
  {
   "cell_type": "code",
   "execution_count": 6,
   "metadata": {},
   "outputs": [],
   "source": [
    "C = 0.5"
   ]
  },
  {
   "cell_type": "code",
   "execution_count": 7,
   "metadata": {},
   "outputs": [],
   "source": [
    "from scipy import optimize \n",
    "from scipy.stats import norm\n",
    "\n",
    "def f(x):\n",
    "    a = np.sqrt(2 * D) * (x - 1) \n",
    "    b = norm.cdf(a + 3*x) - norm.cdf(a - 3*x) - C\n",
    "    return b\n",
    "\n",
    "def fprime(x):\n",
    "    a = np.sqrt(2 * D) * (x - 1) \n",
    "    b = norm.pdf(a+3*x) - norm.pdf(a-3*x)\n",
    "    return b"
   ]
  },
  {
   "cell_type": "code",
   "execution_count": 8,
   "metadata": {},
   "outputs": [
    {
     "data": {
      "image/png": "[encoded data removed]",
      "text/plain": [
       "<Figure size 640x480 with 1 Axes>"
      ]
     },
     "metadata": {},
     "output_type": "display_data"
    }
   ],
   "source": [
    "xpoints = np.linspace(1, 1.4, num = 1000)\n",
    "ypoints = f(xpoints)\n",
    "import matplotlib.pyplot as plt\n",
    "plt.plot(xpoints, ypoints)\n",
    "plt.show()"
   ]
  },
  {
   "cell_type": "code",
   "execution_count": 9,
   "metadata": {},
   "outputs": [
    {
     "data": {
      "text/plain": [
       "1.360849794092001"
      ]
     },
     "execution_count": 9,
     "metadata": {},
     "output_type": "execute_result"
    }
   ],
   "source": [
    "sol = optimize.root_scalar(f, fprime= fprime, bracket=[1,1.4])\n",
    "sol.root"
   ]
  },
  {
   "cell_type": "code",
   "execution_count": 10,
   "metadata": {},
   "outputs": [],
   "source": [
    "gamma = sol.root"
   ]
  },
  {
   "cell_type": "code",
   "execution_count": 11,
   "metadata": {},
   "outputs": [
    {
     "data": {
      "text/plain": [
       "1.7141843500212417e-13"
      ]
     },
     "execution_count": 11,
     "metadata": {},
     "output_type": "execute_result"
    }
   ],
   "source": [
    "f(gamma)"
   ]
  },
  {
   "attachments": {},
   "cell_type": "markdown",
   "metadata": {},
   "source": [
    "# Technique 3, $s_\\theta(x, \\sigma) = \\frac{s_\\theta(x)}{\\sigma}$\n",
    "\n",
    "Refer to the code in ncsnv2. Check the architecture."
   ]
  },
  {
   "attachments": {},
   "cell_type": "markdown",
   "metadata": {},
   "source": [
    "# Technique 4, selecting $T$ and $\\varepsilon$.\n",
    "\n",
    "Choose $T$ as large as allowed by computing budget and then select $\\varepsilon$ that makes the following maximally close to $1$.\n",
    "\n",
    "$\\frac{s_T^2}{\\sigma_i^2}=\\left(1-\\frac{\\epsilon}{\\sigma_L^2}\\right)^{2 T}\\left(\\gamma^2-\\frac{2 \\epsilon}{\\sigma_L^2-\\sigma_L^2\\left(1-\\frac{\\epsilon}{\\sigma_L^2}\\right)^2}\\right)+\\frac{2 \\epsilon}{\\sigma_L^2-\\sigma_L^2\\left(1-\\frac{\\epsilon}{\\sigma_L^2}\\right)^2}$.\n",
    "\n",
    "A typical reasonable computing budget is $T \\cdot L$ being several thousands. \n",
    "\n",
    "Recall that $\\sigma_L = \\sigma_1 (1 / \\gamma)^{L-1}$. So $ L = -\\frac{\\log(\\sigma_L / \\sigma_1 )}{\\log (\\gamma)} + 1$."
   ]
  },
  {
   "cell_type": "code",
   "execution_count": 12,
   "metadata": {},
   "outputs": [],
   "source": [
    "# sigma_1 = 3.84711"
   ]
  },
  {
   "cell_type": "code",
   "execution_count": 13,
   "metadata": {},
   "outputs": [],
   "source": [
    "# sigma_1 = 3.783"
   ]
  },
  {
   "cell_type": "code",
   "execution_count": 14,
   "metadata": {},
   "outputs": [
    {
     "data": {
      "text/plain": [
       "3.84711"
      ]
     },
     "execution_count": 14,
     "metadata": {},
     "output_type": "execute_result"
    }
   ],
   "source": [
    "sigma_1"
   ]
  },
  {
   "cell_type": "code",
   "execution_count": 132,
   "metadata": {},
   "outputs": [
    {
     "name": "stdout",
     "output_type": "stream",
     "text": [
      "sigma_L: 0.00001000000000000000\n"
     ]
    }
   ],
   "source": [
    "T = 1900 # the default choice is 100\n",
    "sigma_L = 0.00001 # the default choice is 0.01\n",
    "L = - np.log(sigma_L / sigma_1) / np.log(gamma) + 1\n",
    "print('sigma_L:', '{:.20f}'.format(sigma_L))"
   ]
  },
  {
   "cell_type": "code",
   "execution_count": 133,
   "metadata": {},
   "outputs": [
    {
     "name": "stdout",
     "output_type": "stream",
     "text": [
      "before taking ceil: 42.73923169849942\n",
      "final integer L: 43.0\n",
      "old gamma: 1.360849794092001\n",
      "newgamma: 1.3582490043113415\n",
      "T times L: 81700.0\n"
     ]
    }
   ],
   "source": [
    "print('before taking ceil:',L)\n",
    "L = np.ceil(L)\n",
    "print('final integer L:', L)\n",
    "\n",
    "# obtain the newgamma that is based on the L after taking ceiling\n",
    "newgamma = np.power(sigma_1/ sigma_L, 1 / (L -1))\n",
    "print('old gamma:', gamma)\n",
    "print('newgamma:', newgamma)\n",
    "print('T times L:', T* L)"
   ]
  },
  {
   "attachments": {},
   "cell_type": "markdown",
   "metadata": {},
   "source": [
    "## Nelder-Mead instead of Grid search \n",
    "\n",
    "Fail to use the grid search, so I switch to Nelder-Mead method, using scipy.optimize.minimize. \n",
    "\n",
    "Based on numerical results, NM performs better than the graident-based methods. "
   ]
  },
  {
   "cell_type": "code",
   "execution_count": 134,
   "metadata": {},
   "outputs": [
    {
     "name": "stdout",
     "output_type": "stream",
     "text": [
      "Optimization terminated successfully.\n",
      "         Current function value: 0.001420\n",
      "         Iterations: 7\n",
      "         Function evaluations: 14\n",
      "fun eval at minimizer: 0.0014201000439342248\n"
     ]
    }
   ],
   "source": [
    "def g(x):\n",
    "    \"\"\"x for epsilon\"\"\"\n",
    "    a = 2 *x / (sigma_L **2 - (sigma_L**2) * (1 - x / sigma_L **2)**2 )\n",
    "    b = (1 - x / sigma_L**2) ** (2*T)\n",
    "\n",
    "    # don't forget the -1 in the end, for optimizing the expression to maximally close to 1 \n",
    "    return b * (newgamma**2 - a) + a - 1 \n",
    "\n",
    "from scipy import optimize\n",
    "# minimizer_object = optimize.minimize(g, 0.000001, method='Nelder-Mead', options={'xatol': 1e-8, 'disp': True}) # original\n",
    "\n",
    "# minimizer_object = optimize.minimize(g, 0.0000000001, method='Nelder-Mead', options={'xatol': 1e-8, 'disp': True}) # ad hoc\n",
    "# for small dataset replication for T =100, sigL6, 0.00000000000281250000\n",
    "minimizer_object = optimize.minimize(g, 0.000000000001, method='Nelder-Mead', options={'xatol': 1e-8, 'disp': True}) # ad hoc\n",
    "\n",
    "# options={'gtol': 1e-8, 'disp': True} \n",
    "# note that Nelder-Mead does not have gtol option\n",
    "epsilon = minimizer_object.x\n",
    "print('fun eval at minimizer:', minimizer_object.fun)"
   ]
  },
  {
   "cell_type": "code",
   "execution_count": 135,
   "metadata": {},
   "outputs": [
    {
     "name": "stdout",
     "output_type": "stream",
     "text": [
      "T: 1900\n",
      "sigma_L: 1e-05\n",
      "e: 0.000000000000200000000000001773\n"
     ]
    }
   ],
   "source": [
    "print('T:', T)\n",
    "print('sigma_L:', sigma_L)\n",
    "print('e:', '{:.30f}'.format(epsilon[0]))"
   ]
  },
  {
   "cell_type": "code",
   "execution_count": 136,
   "metadata": {},
   "outputs": [],
   "source": [
    "# from scipy.optimize import show_options\n",
    "# show_options(solver=\"minimize\", method='Nelder-Mead')\n",
    "# show the options we can sue for Nelder-Mead method"
   ]
  },
  {
   "attachments": {},
   "cell_type": "markdown",
   "metadata": {},
   "source": [
    "## Plotting and old try"
   ]
  },
  {
   "cell_type": "code",
   "execution_count": 137,
   "metadata": {},
   "outputs": [],
   "source": [
    "# xpoints = np.linspace(0.000008, 0.00002, num = 1000) \n",
    "# # 0.000008 and 0.00002 are some step_lr we have used before, \n",
    "# # note that 0.00002 is the default step_lr in ncsn v1\n",
    "# ypoints = g(xpoints)\n",
    "# import matplotlib.pyplot as plt\n",
    "# plt.plot(xpoints, ypoints)\n",
    "# plt.title(\"T={T}, sigma_L={sigma}\".format(T=T, sigma=sigma_L))\n",
    "# plt.show()\n"
   ]
  },
  {
   "attachments": {},
   "cell_type": "markdown",
   "metadata": {},
   "source": [
    "Note that we are looking for root!!!! So we want the y-axis is 0!! Don't be mistaken that we want to find y = 1."
   ]
  },
  {
   "cell_type": "code",
   "execution_count": 138,
   "metadata": {},
   "outputs": [],
   "source": [
    "# xpoints = np.linspace(0.000001, 0.00002, num = 1000) \n",
    "# # 0.000008 and 0.00002 are some step_lr we have used before, \n",
    "# # note that 0.00002 is the default step_lr in ncsn v1\n",
    "# ypoints = g(xpoints)\n",
    "# import matplotlib.pyplot as plt\n",
    "# plt.plot(xpoints, ypoints)\n",
    "# plt.title(\"T={T}, sigma_L={sigma}\".format(T=T, sigma=sigma_L))\n",
    "# plt.show()\n"
   ]
  },
  {
   "cell_type": "code",
   "execution_count": 139,
   "metadata": {},
   "outputs": [],
   "source": [
    "# sol = optimize.root_scalar(g, x0 = 0.000001, x1 = 0.0000005) # , bracket=[1,1.4])\n",
    "# root1 = sol.root\n",
    "# root1"
   ]
  },
  {
   "cell_type": "code",
   "execution_count": 140,
   "metadata": {},
   "outputs": [],
   "source": [
    "# g(root1)"
   ]
  },
  {
   "cell_type": "code",
   "execution_count": 141,
   "metadata": {},
   "outputs": [],
   "source": [
    "# g(0.000000001)"
   ]
  },
  {
   "attachments": {},
   "cell_type": "markdown",
   "metadata": {},
   "source": [
    "Very sensitive to the initial guesses and it seems hard to come up with some possible initial guess. Let's use gridsearch.."
   ]
  },
  {
   "cell_type": "code",
   "execution_count": 142,
   "metadata": {},
   "outputs": [],
   "source": [
    "# root2 = 0.0000025 \n",
    "# root2 = 0.000008\n",
    "\n",
    "# g(root2)"
   ]
  },
  {
   "cell_type": "code",
   "execution_count": 143,
   "metadata": {},
   "outputs": [],
   "source": [
    "# Let's try bracket method...\n",
    "# sol = optimize.root_scalar(g , bracket=[0.000001,0.000002]) \n",
    "# shit, they might not have different sign...\n",
    "# maybe we should minimization method?\n"
   ]
  },
  {
   "cell_type": "code",
   "execution_count": 144,
   "metadata": {},
   "outputs": [],
   "source": [
    "# from scipy import optimize\n",
    "# ranges = ((0.000001, 0.00002))\n",
    "# # ranges = (slice(1, 2, 100))\n",
    "\n",
    "# # rranges = (slice(0.000001, 0.00002, 1000))\n",
    "\n",
    "# resbrute = optimize.brute(g, ranges, Ns=1000)\n",
    "\n",
    "# fail attempt at grid search"
   ]
  },
  {
   "attachments": {},
   "cell_type": "markdown",
   "metadata": {},
   "source": [
    "# Technique 5, Exponential moving average\n",
    "\n",
    "Check the code in ncsnv2."
   ]
  }
 ],
 "metadata": {
  "kernelspec": {
   "display_name": "pytorch",
   "language": "python",
   "name": "python3"
  },
  "language_info": {
   "codemirror_mode": {
    "name": "ipython",
    "version": 3
   },
   "file_extension": ".py",
   "mimetype": "text/x-python",
   "name": "python",
   "nbconvert_exporter": "python",
   "pygments_lexer": "ipython3",
   "version": "3.9.16"
  },
  "orig_nbformat": 4
 },
 "nbformat": 4,
 "nbformat_minor": 2
}
