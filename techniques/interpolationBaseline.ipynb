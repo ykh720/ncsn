{
 "cells": [
  {
   "cell_type": "code",
   "execution_count": 1,
   "metadata": {},
   "outputs": [],
   "source": [
    "import numpy as np\n",
    "import csv\n",
    "import scipy\n",
    "from sklearn.model_selection import train_test_split\n",
    "from torch.utils.data import DataLoader, Subset\n",
    "\n",
    "\n",
    "\n",
    "tlist = scipy.io.loadmat('Heston' + '_tlist.mat')\n",
    "tlist = tlist['tlist'] # note that they are 2D array \n",
    "tlist = tlist.reshape((-1))\n",
    "# Klist = scipy.io.loadmat('msft_Klist.mat')\n",
    "Klist = scipy.io.loadmat('Heston' + '_Klist.mat')\n",
    "Klist = Klist['Klist'] # note that they are 2D array\n",
    "Klist = Klist.reshape((-1))\n",
    "totalvarsurface = scipy.io.loadmat('HestonIVSgrid_NI91529.mat')\n",
    "# totalvarsurface = scipy.io.loadmat('HestonIVSgrid_NI.mat')\n",
    "# totalvarsurface = scipy.io.loadmat('HestonIVSgrid_NI87527.mat')\n",
    "\n",
    "# totalvarsurface = totalvarsurface['totalvarsurface']\n",
    "totalvarsurface = totalvarsurface['HestonIVS2D']\n",
    "IVStrain, IVStest = train_test_split(totalvarsurface, test_size = 0.2, random_state = 42)"
   ]
  },
  {
   "cell_type": "code",
   "execution_count": 2,
   "metadata": {},
   "outputs": [],
   "source": [
    "image_size = 8\n",
    "i_d = int(np.ceil(image_size/4))\n",
    "mask = np.full((image_size,image_size), True)\n",
    "indexlist = [(i_d, i_d), (i_d, -i_d-1), (-i_d-1, i_d), (-i_d-1,-i_d-1)]\n",
    "for x in indexlist:\n",
    "    mask[x] = False"
   ]
  },
  {
   "cell_type": "code",
   "execution_count": 3,
   "metadata": {},
   "outputs": [
    {
     "data": {
      "text/plain": [
       "(17506, 16, 16)"
      ]
     },
     "execution_count": 3,
     "metadata": {},
     "output_type": "execute_result"
    }
   ],
   "source": [
    "IVStest.shape"
   ]
  },
  {
   "cell_type": "code",
   "execution_count": 4,
   "metadata": {},
   "outputs": [],
   "source": [
    "# Let's compare to simple interpolation. neighbor IV mid point value\n",
    "# testsize = IVStest.shape[0]\n",
    "# testsize = 100\n",
    "testsize = 100\n",
    "errorlist = []\n",
    "maxerrorlist = []\n",
    "for x in indexlist:\n",
    "    allerrorlist = []\n",
    "    x1 = x[0]\n",
    "    x2 = x[1]\n",
    "    newid1 = (x1-1, x2)\n",
    "    newid2 = (x1+1, x2)\n",
    "    for i in range(testsize):\n",
    "        testsurf = IVStest[i]\n",
    "        y_true = testsurf[x]\n",
    "        y_test = (testsurf[newid1] + testsurf[newid2])/2\n",
    "        error = np.abs(y_true -y_test) / np.abs(y_true )\n",
    "        allerrorlist.append(error)\n",
    "    allerror = np.array(allerrorlist)\n",
    "    avgerror = np.mean(allerror)\n",
    "    maxerror = np.amax(allerror)\n",
    "    errorlist.append(avgerror)\n",
    "    maxerrorlist.append(maxerror)\n",
    "         \n",
    "        "
   ]
  },
  {
   "cell_type": "code",
   "execution_count": 5,
   "metadata": {},
   "outputs": [
    {
     "name": "stdout",
     "output_type": "stream",
     "text": [
      "[0.01477991 0.02122595 0.00742994 0.00939677]\n"
     ]
    },
    {
     "data": {
      "text/plain": [
       "array([0.13008515, 0.3131735 , 0.03537981, 0.05485178])"
      ]
     },
     "execution_count": 5,
     "metadata": {},
     "output_type": "execute_result"
    }
   ],
   "source": [
    "errorlistnp = np.array(errorlist)\n",
    "print(errorlistnp * 100)\n",
    "maxerrorlistnp = np.array(maxerrorlist)\n",
    "maxerrorlistnp * 100"
   ]
  },
  {
   "cell_type": "code",
   "execution_count": 102,
   "metadata": {},
   "outputs": [
    {
     "data": {
      "text/plain": [
       "3.0"
      ]
     },
     "execution_count": 102,
     "metadata": {},
     "output_type": "execute_result"
    }
   ],
   "source": [
    "l = np.mean([1,2,3,4,5])\n",
    "np.mean(l)\n"
   ]
  },
  {
   "cell_type": "code",
   "execution_count": 17,
   "metadata": {},
   "outputs": [
    {
     "name": "stdout",
     "output_type": "stream",
     "text": [
      "(2, 2)\n",
      "(2, -3)\n",
      "(-3, 2)\n",
      "(-3, -3)\n"
     ]
    }
   ],
   "source": [
    "for x in indexlist:\n",
    "    print(x)\n",
    "    y = x\n",
    "    y"
   ]
  },
  {
   "attachments": {},
   "cell_type": "markdown",
   "metadata": {},
   "source": [
    "# Some other randomness testing"
   ]
  },
  {
   "cell_type": "code",
   "execution_count": 44,
   "metadata": {},
   "outputs": [],
   "source": [
    "IVStrain, IVStest = train_test_split(totalvarsurface, test_size = 0.2, random_state = 42)\n"
   ]
  },
  {
   "cell_type": "code",
   "execution_count": 45,
   "metadata": {},
   "outputs": [],
   "source": [
    "IVStrain1, IVStest1 = train_test_split(totalvarsurface, test_size = 0.2, random_state = 42)\n"
   ]
  },
  {
   "cell_type": "code",
   "execution_count": 50,
   "metadata": {},
   "outputs": [
    {
     "data": {
      "text/plain": [
       "(18306, 8, 8)"
      ]
     },
     "execution_count": 50,
     "metadata": {},
     "output_type": "execute_result"
    }
   ],
   "source": [
    "IVStest.shape"
   ]
  },
  {
   "cell_type": "code",
   "execution_count": 51,
   "metadata": {},
   "outputs": [
    {
     "data": {
      "text/plain": [
       "1171584"
      ]
     },
     "execution_count": 51,
     "metadata": {},
     "output_type": "execute_result"
    }
   ],
   "source": [
    "18306 * 64"
   ]
  },
  {
   "cell_type": "code",
   "execution_count": 47,
   "metadata": {},
   "outputs": [
    {
     "data": {
      "text/plain": [
       "1171584"
      ]
     },
     "execution_count": 47,
     "metadata": {},
     "output_type": "execute_result"
    }
   ],
   "source": [
    "np.sum(IVStest == IVStest1)\n"
   ]
  },
  {
   "cell_type": "code",
   "execution_count": 54,
   "metadata": {},
   "outputs": [],
   "source": [
    "from datasets.Dset import * "
   ]
  },
  {
   "cell_type": "code",
   "execution_count": 90,
   "metadata": {},
   "outputs": [],
   "source": [
    "torch.manual_seed(0)\n",
    "dataset = Dset(IVStest)\n",
    "dataloader = DataLoader(dataset, batch_size=128,shuffle=True, drop_last=True)\n",
    "refer_image = next(iter(dataloader))"
   ]
  },
  {
   "cell_type": "code",
   "execution_count": 91,
   "metadata": {},
   "outputs": [
    {
     "data": {
      "text/plain": [
       "torch.Size([128, 8, 8])"
      ]
     },
     "execution_count": 91,
     "metadata": {},
     "output_type": "execute_result"
    }
   ],
   "source": [
    "refer_image.shape"
   ]
  },
  {
   "cell_type": "code",
   "execution_count": 92,
   "metadata": {},
   "outputs": [],
   "source": [
    "torch.manual_seed(1)\n",
    "dataset = Dset(IVStest)\n",
    "dataloader = DataLoader(dataset, batch_size=128,shuffle=True, drop_last=True)\n",
    "refer_image1 = next(iter(dataloader))\n"
   ]
  },
  {
   "cell_type": "code",
   "execution_count": 93,
   "metadata": {},
   "outputs": [
    {
     "data": {
      "text/plain": [
       "0"
      ]
     },
     "execution_count": 93,
     "metadata": {},
     "output_type": "execute_result"
    }
   ],
   "source": [
    "np.sum(np.array(refer_image == refer_image1))"
   ]
  },
  {
   "cell_type": "code",
   "execution_count": 94,
   "metadata": {},
   "outputs": [
    {
     "data": {
      "text/plain": [
       "8192"
      ]
     },
     "execution_count": 94,
     "metadata": {},
     "output_type": "execute_result"
    }
   ],
   "source": [
    "128 * 64"
   ]
  },
  {
   "attachments": {},
   "cell_type": "markdown",
   "metadata": {},
   "source": [
    "# plotting"
   ]
  },
  {
   "cell_type": "code",
   "execution_count": 107,
   "metadata": {},
   "outputs": [],
   "source": [
    "import os\n",
    "# Let's compare to simple interpolation. neighbor IV mid point value\n",
    "# testsize = IVStest.shape[0]\n",
    "# testsize = 100\n",
    "testsize = 100\n",
    "errorlist = []\n",
    "maxerrorlist = []\n",
    "for x in indexlist:\n",
    "    allerrorlist = []\n",
    "    x1 = x[0]\n",
    "    x2 = x[1]\n",
    "    newid1 = (x1-1, x2)\n",
    "    newid2 = (x1+1, x2)\n",
    "    for i in range(testsize):\n",
    "        testsurf = IVStest[i]\n",
    "        y_true = testsurf[x]\n",
    "        y_test = (testsurf[newid1] + testsurf[newid2])/2\n",
    "        error = np.abs(y_true -y_test) / np.abs(y_true )\n",
    "        allerrorlist.append(error)\n",
    "    allerror = np.array(allerrorlist)\n",
    "    avgerror = np.mean(allerror)\n",
    "    maxerror = np.amax(allerror)\n",
    "    errorlist.append(avgerror)\n",
    "    maxerrorlist.append(maxerror)\n",
    "\n",
    "for i in range(testsize):  \n",
    "    testsurf = IVStest[i]\n",
    "    predsurf = testsurf.copy()\n",
    "    for x in indexlist:\n",
    "        x1 = x[0]\n",
    "        x2 = x[1]\n",
    "        newid1 = (x1-1, x2)\n",
    "        newid2 = (x1+1, x2)\n",
    "        y_test = (testsurf[newid1] + testsurf[newid2])/2\n",
    "        predsurf[x1,x2] = y_test\n",
    "    savepath = os.path.join('imagefolder', 'ivs_image_inpainting{}.png'.format(i))\n",
    "    IVS_visualize(predsurf, Klist, tlist, savepath=savepath, plotname = str(i) + \"baseline\")\n",
    "\n",
    "\n",
    "\n",
    "         \n",
    "        "
   ]
  }
 ],
 "metadata": {
  "kernelspec": {
   "display_name": "pytorch",
   "language": "python",
   "name": "python3"
  },
  "language_info": {
   "codemirror_mode": {
    "name": "ipython",
    "version": 3
   },
   "file_extension": ".py",
   "mimetype": "text/x-python",
   "name": "python",
   "nbconvert_exporter": "python",
   "pygments_lexer": "ipython3",
   "version": "3.9.16"
  },
  "orig_nbformat": 4
 },
 "nbformat": 4,
 "nbformat_minor": 2
}
