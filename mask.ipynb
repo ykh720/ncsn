{
 "cells": [
  {
   "cell_type": "code",
   "execution_count": 2,
   "metadata": {},
   "outputs": [
    {
     "name": "stderr",
     "output_type": "stream",
     "text": [
      "c:\\Users\\huiyi\\anaconda3\\envs\\pytorch\\lib\\site-packages\\tqdm\\auto.py:22: TqdmWarning: IProgress not found. Please update jupyter and ipywidgets. See https://ipywidgets.readthedocs.io/en/stable/user_install.html\n",
      "  from .autonotebook import tqdm as notebook_tqdm\n"
     ]
    }
   ],
   "source": [
    "import torch"
   ]
  },
  {
   "cell_type": "code",
   "execution_count": 4,
   "metadata": {},
   "outputs": [
    {
     "data": {
      "text/plain": [
       "tensor([[[[[0.9868, 0.8217, 0.6410, 0.2025, 0.3875, 0.4462, 0.2816, 0.6887],\n",
       "           [0.7010, 0.9036, 0.1071, 0.5519, 0.7408, 0.6928, 0.8463, 0.6535],\n",
       "           [0.6741, 0.1628, 0.6923, 0.3696, 0.2089, 0.8901, 0.3107, 0.6635],\n",
       "           [0.9029, 0.2699, 0.5747, 0.2151, 0.4810, 0.0304, 0.8480, 0.0392],\n",
       "           [0.8355, 0.1600, 0.6327, 0.0902, 0.6375, 0.6701, 0.2490, 0.8698],\n",
       "           [0.6189, 0.6614, 0.1239, 0.4324, 0.3279, 0.6343, 0.0684, 0.4341],\n",
       "           [0.5525, 0.9742, 0.2323, 0.9196, 0.5311, 0.9893, 0.9170, 0.3168],\n",
       "           [0.0296, 0.3460, 0.2584, 0.5945, 0.8642, 0.8489, 0.3520, 0.8388]]]]])"
      ]
     },
     "execution_count": 4,
     "metadata": {},
     "output_type": "execute_result"
    }
   ],
   "source": [
    "samples = torch.rand(1, 1, 1, 8, 8)"
   ]
  },
  {
   "cell_type": "code",
   "execution_count": 8,
   "metadata": {},
   "outputs": [
    {
     "data": {
      "text/plain": [
       "tensor([[False, False, False, False, False, False, False, False],\n",
       "        [False,  True, False, False, False, False, False, False],\n",
       "        [False, False, False, False, False, False, False, False],\n",
       "        [False, False, False, False, False, False, False, False],\n",
       "        [False, False, False, False, False, False, False, False],\n",
       "        [False, False, False, False, False, False, False, False],\n",
       "        [False, False, False, False, False, False, False, False],\n",
       "        [False, False, False, False, False, False, False, False]])"
      ]
     },
     "execution_count": 8,
     "metadata": {},
     "output_type": "execute_result"
    }
   ],
   "source": [
    "mask = torch.BoolTensor(8, 8)\n",
    "mask[1,1] = True\n",
    "\n"
   ]
  },
  {
   "cell_type": "code",
   "execution_count": 25,
   "metadata": {},
   "outputs": [
    {
     "data": {
      "text/plain": [
       "tensor([[ True,  True,  True,  True,  True,  True,  True,  True],\n",
       "        [ True, False,  True,  True,  True,  True,  True,  True],\n",
       "        [ True,  True,  True,  True,  True,  True,  True,  True],\n",
       "        [ True,  True,  True,  True,  True,  True,  True,  True],\n",
       "        [ True,  True,  True,  True,  True,  True,  True,  True],\n",
       "        [ True,  True,  True,  True,  True,  True,  True,  True],\n",
       "        [ True,  True,  True,  True,  True,  True,  True,  True],\n",
       "        [ True,  True,  True,  True,  True,  True,  True,  True]])"
      ]
     },
     "execution_count": 25,
     "metadata": {},
     "output_type": "execute_result"
    }
   ],
   "source": [
    "mask2 = torch.ones(8,8, dtype=torch.bool)\n",
    "\n",
    "mask2[1,1] = False\n",
    "\n",
    "mask2"
   ]
  },
  {
   "cell_type": "code",
   "execution_count": 11,
   "metadata": {},
   "outputs": [
    {
     "data": {
      "text/plain": [
       "tensor([[[[[9.8675e-01, 8.2172e-01, 6.4099e-01, 2.0253e-01, 3.8753e-01,\n",
       "            4.4624e-01, 2.8159e-01, 6.8871e-01],\n",
       "           [7.0105e-01, 1.0000e+05, 1.0707e-01, 5.5191e-01, 7.4076e-01,\n",
       "            6.9285e-01, 8.4629e-01, 6.5346e-01],\n",
       "           [6.7410e-01, 1.6282e-01, 6.9231e-01, 3.6964e-01, 2.0889e-01,\n",
       "            8.9010e-01, 3.1074e-01, 6.6351e-01],\n",
       "           [9.0294e-01, 2.6991e-01, 5.7470e-01, 2.1511e-01, 4.8099e-01,\n",
       "            3.0420e-02, 8.4798e-01, 3.9207e-02],\n",
       "           [8.3553e-01, 1.5999e-01, 6.3265e-01, 9.0213e-02, 6.3754e-01,\n",
       "            6.7012e-01, 2.4902e-01, 8.6977e-01],\n",
       "           [6.1888e-01, 6.6136e-01, 1.2394e-01, 4.3236e-01, 3.2787e-01,\n",
       "            6.3433e-01, 6.8392e-02, 4.3410e-01],\n",
       "           [5.5254e-01, 9.7424e-01, 2.3225e-01, 9.1964e-01, 5.3113e-01,\n",
       "            9.8935e-01, 9.1698e-01, 3.1681e-01],\n",
       "           [2.9566e-02, 3.4599e-01, 2.5843e-01, 5.9450e-01, 8.6417e-01,\n",
       "            8.4893e-01, 3.5201e-01, 8.3878e-01]]]]])"
      ]
     },
     "execution_count": 11,
     "metadata": {},
     "output_type": "execute_result"
    }
   ],
   "source": [
    "samples[:,:,:, mask] = 100000\n",
    "samples"
   ]
  },
  {
   "cell_type": "code",
   "execution_count": 12,
   "metadata": {},
   "outputs": [],
   "source": [
    "x_mod = samples"
   ]
  },
  {
   "cell_type": "code",
   "execution_count": 14,
   "metadata": {},
   "outputs": [],
   "source": [
    "x_mod2 = x_mod.view(-1, 1, 8 ,8)"
   ]
  },
  {
   "cell_type": "code",
   "execution_count": 16,
   "metadata": {},
   "outputs": [
    {
     "data": {
      "text/plain": [
       "torch.Size([1, 1, 8, 8])"
      ]
     },
     "execution_count": 16,
     "metadata": {},
     "output_type": "execute_result"
    }
   ],
   "source": [
    "x_mod2.shape"
   ]
  },
  {
   "cell_type": "code",
   "execution_count": 19,
   "metadata": {},
   "outputs": [
    {
     "data": {
      "text/plain": [
       "torch.Size([1, 1, 1])"
      ]
     },
     "execution_count": 19,
     "metadata": {},
     "output_type": "execute_result"
    }
   ],
   "source": [
    "x_mod2[..., mask]"
   ]
  },
  {
   "attachments": {},
   "cell_type": "markdown",
   "metadata": {},
   "source": [
    "# picture generating"
   ]
  },
  {
   "cell_type": "code",
   "execution_count": 19,
   "metadata": {},
   "outputs": [],
   "source": [
    "import numpy as np\n",
    "import csv\n",
    "import scipy\n",
    "from sklearn.model_selection import train_test_split\n",
    "\n",
    "\n",
    "\n",
    "tlist = scipy.io.loadmat('Heston' + '_tlist.mat')\n",
    "tlist = tlist['tlist'] # note that they are 2D array \n",
    "tlist = tlist.reshape((-1))\n",
    "# Klist = scipy.io.loadmat('msft_Klist.mat')\n",
    "Klist = scipy.io.loadmat('Heston' + '_Klist.mat')\n",
    "Klist = Klist['Klist'] # note that they are 2D array\n",
    "Klist = Klist.reshape((-1))\n",
    "totalvarsurface = scipy.io.loadmat('HestonIVSgrid_NI.mat')\n",
    "# totalvarsurface = totalvarsurface['totalvarsurface']\n",
    "totalvarsurface = totalvarsurface['HestonIVS2D']\n",
    "IVStrain, IVStest = train_test_split(totalvarsurface, test_size = 0.2, random_state = 42)"
   ]
  },
  {
   "cell_type": "code",
   "execution_count": 71,
   "metadata": {},
   "outputs": [
    {
     "name": "stdout",
     "output_type": "stream",
     "text": [
      "(6, 8, 8)\n"
     ]
    },
    {
     "data": {
      "text/plain": [
       "(6, 8, 8)"
      ]
     },
     "execution_count": 71,
     "metadata": {},
     "output_type": "execute_result"
    }
   ],
   "source": [
    "surfivs = IVStrain[0:6]\n",
    "print(surfivs.shape)\n",
    "surfivspred = surfivs.copy() * 1.2\n",
    "surfivspred[1,1] = surfivs[1,1] * 1.56\n",
    "surfivspred.shape"
   ]
  },
  {
   "cell_type": "code",
   "execution_count": 79,
   "metadata": {},
   "outputs": [
    {
     "data": {
      "image/png": "[encoded data removed]",
      "text/plain": [
       "<Figure size 1400x400 with 6 Axes>"
      ]
     },
     "metadata": {},
     "output_type": "display_data"
    }
   ],
   "source": [
    "inpainting_error(tlist, Klist, surfivs, surfivspred, plotname='HestoninpaintingErrors')"
   ]
  },
  {
   "cell_type": "code",
   "execution_count": 78,
   "metadata": {},
   "outputs": [],
   "source": [
    "def inpainting_error(surfivs, surfivspred, Klist, tlist,  plotname='HestoninpaintingErrors'):\n",
    "    \"\"\"surfivs shape (batch_size, image_size_y, image_size_x)\"\"\"\n",
    "    from matplotlib.ticker import FormatStrFormatter, StrMethodFormatter\n",
    "    import matplotlib.pyplot as plt\n",
    "    import matplotlib.ticker as mtick\n",
    "\n",
    "    plt.figure(1,figsize=(14,4))\n",
    "    ax=plt.subplot(1,3,1)\n",
    "    err = np.mean(100 * np.abs((surfivspred - surfivs)/ surfivs), axis =0) \n",
    "    plt.title(\"Average relative error\",fontsize=15,y=1.04)\n",
    "    plt.imshow(err.reshape(len(tlist),len(Klist)))\n",
    "    plt.colorbar(format=mtick.PercentFormatter())\n",
    "\n",
    "    ax.set_xticks(np.linspace(0,len(Klist)-1,len(Klist)))\n",
    "    ax.set_xticklabels(Klist.astype('int'))\n",
    "\n",
    "    # ax.set_yticks(np.linspace(0,len(tlist)-1,len(tlist)))\n",
    "    ax.set_yticks(np.linspace(0,len(tlist)-1,len(tlist)))\n",
    "    ax.set_yticklabels([str(round(t,2)) for t in tlist])\n",
    "    # ax.yaxis.set_major_formatter(FormatStrFormatter('%.2f'))\n",
    "    # ax.yaxis.set_major_formatter('{x:9<5.1f}')\n",
    "    # plt.gca().yaxis.set_major_formatter(StrMethodFormatter('{x:,.2f}'))\n",
    "    plt.xlabel(\"Strike\",fontsize=15,labelpad=5)\n",
    "    plt.ylabel(\"Maturity\",fontsize=15,labelpad=5)\n",
    "\n",
    "    ax=plt.subplot(1,3,2)\n",
    "    err = 100*np.std(np.abs((surfivspred-surfivs)/surfivs),axis = 0)\n",
    "    plt.title(\"Std relative error\",fontsize=15,y=1.04)\n",
    "    plt.imshow(err.reshape(len(tlist),len(Klist)))\n",
    "    plt.colorbar(format=mtick.PercentFormatter())\n",
    "    ax.set_xticks(np.linspace(0,len(Klist)-1,len(Klist)))\n",
    "    ax.set_xticklabels(Klist.astype('int'))\n",
    "    ax.set_yticks(np.linspace(0,len(tlist)-1,len(tlist)))\n",
    "    ax.set_yticklabels([str(round(t,2)) for t in tlist])\n",
    "    plt.xlabel(\"Strike\",fontsize=15,labelpad=5)\n",
    "    plt.ylabel(\"Maturity\",fontsize=15,labelpad=5)\n",
    "\n",
    "    ax=plt.subplot(1,3,3)\n",
    "    err = 100*np.max(np.abs((surfivspred-surfivs)/surfivs),axis = 0)\n",
    "    plt.title(\"Maximum relative error\",fontsize=15,y=1.04)\n",
    "    plt.imshow(err.reshape(len(tlist),len(Klist)))\n",
    "    plt.colorbar(format=mtick.PercentFormatter())\n",
    "    ax.set_xticks(np.linspace(0,len(Klist)-1,len(Klist)))\n",
    "    ax.set_xticklabels(Klist.astype('int'))\n",
    "    ax.set_yticks(np.linspace(0,len(tlist)-1,len(tlist)))\n",
    "    ax.set_yticklabels([str(round(t,2)) for t in tlist])\n",
    "    plt.xlabel(\"Strike\",fontsize=15,labelpad=5)\n",
    "    plt.ylabel(\"Maturity\",fontsize=15,labelpad=5)\n",
    "    plt.tight_layout()\n",
    "    plt.savefig(plotname+ '.png', dpi=300)\n",
    "    plt.show()\n",
    "\n"
   ]
  },
  {
   "cell_type": "code",
   "execution_count": 57,
   "metadata": {},
   "outputs": [
    {
     "data": {
      "text/plain": [
       "array([ 60.65306597,  69.96725374,  80.7117747 ,  93.10627797,\n",
       "       107.40414307, 123.89765975, 142.92400324, 164.87212707])"
      ]
     },
     "execution_count": 57,
     "metadata": {},
     "output_type": "execute_result"
    }
   ],
   "source": [
    "Klist"
   ]
  },
  {
   "cell_type": "code",
   "execution_count": null,
   "metadata": {},
   "outputs": [],
   "source": [
    "strikes_dim=len(Klist)\n",
    "maturities_dim=len(tlist)\n",
    "strikeslabel=np.round(np.linspace(strikes[0],strikes[-1],8),1)\n",
    "maturitieslabel=np.array([0.1,0.2, 0.6, 1.5,1.8])\n",
    "##### AVERAGE VALUES #######\n",
    "X_sample = xinversetransform(x_test_transform)\n",
    "y_sample = y_test_transform\n",
    "\n",
    "prediction=[xinversetransform(modelGEN.predict(y_sample[i].reshape(1,5))[0]) for i in range(len(y_sample))]\n",
    "plt.figure(1,figsize=(14,4))\n",
    "ax=plt.subplot(1,3,1)\n",
    "err = np.mean(100*np.abs((X_sample-prediction)/X_sample),axis = 0)\n",
    "plt.title(\"Average relative error\",fontsize=15,y=1.04)\n",
    "plt.imshow(err.reshape(maturities_dim,strikes_dim))\n",
    "plt.colorbar(format=mtick.PercentFormatter())\n",
    "\n",
    "ax.set_xticks(np.linspace(0,len(strikes)-1,len(strikes)))\n",
    "ax.set_xticklabels(strikes)\n",
    "ax.set_yticks(np.linspace(0,len(maturities)-1,len(maturities)))\n",
    "ax.set_yticklabels(maturities)\n",
    "plt.xlabel(\"Strike\",fontsize=15,labelpad=5)\n",
    "plt.ylabel(\"Maturity\",fontsize=15,labelpad=5)"
   ]
  },
  {
   "cell_type": "code",
   "execution_count": null,
   "metadata": {},
   "outputs": [],
   "source": []
  }
 ],
 "metadata": {
  "kernelspec": {
   "display_name": "pytorch",
   "language": "python",
   "name": "python3"
  },
  "language_info": {
   "codemirror_mode": {
    "name": "ipython",
    "version": 3
   },
   "file_extension": ".py",
   "mimetype": "text/x-python",
   "name": "python",
   "nbconvert_exporter": "python",
   "pygments_lexer": "ipython3",
   "version": "3.9.16"
  },
  "orig_nbformat": 4,
  "vscode": {
   "interpreter": {
    "hash": "7789b6f643234f6308d38e292d2dfeb321252a899d74fec1b2649e67622f5aa2"
   }
  }
 },
 "nbformat": 4,
 "nbformat_minor": 2
}
