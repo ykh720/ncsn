{
 "cells": [
  {
   "cell_type": "code",
   "execution_count": 17,
   "metadata": {},
   "outputs": [],
   "source": [
    "import torch"
   ]
  },
  {
   "cell_type": "code",
   "execution_count": 18,
   "metadata": {},
   "outputs": [],
   "source": [
    "samples = torch.rand(1, 1, 1, 8, 8)"
   ]
  },
  {
   "cell_type": "code",
   "execution_count": 19,
   "metadata": {},
   "outputs": [],
   "source": [
    "mask = torch.BoolTensor(8, 8)\n",
    "mask[1,1] = True\n",
    "\n"
   ]
  },
  {
   "cell_type": "code",
   "execution_count": 20,
   "metadata": {},
   "outputs": [
    {
     "data": {
      "text/plain": [
       "tensor([[ True,  True,  True,  True,  True,  True,  True,  True],\n",
       "        [ True, False,  True,  True,  True,  True,  True,  True],\n",
       "        [ True,  True,  True,  True,  True,  True,  True,  True],\n",
       "        [ True,  True,  True,  True,  True,  True,  True,  True],\n",
       "        [ True,  True,  True,  True,  True,  True,  True,  True],\n",
       "        [ True,  True,  True,  True,  True,  True,  True,  True],\n",
       "        [ True,  True,  True,  True,  True,  True,  True,  True],\n",
       "        [ True,  True,  True,  True,  True,  True,  True,  True]])"
      ]
     },
     "execution_count": 20,
     "metadata": {},
     "output_type": "execute_result"
    }
   ],
   "source": [
    "mask2 = torch.ones(8,8, dtype=torch.bool)\n",
    "\n",
    "mask2[1,1] = False\n",
    "\n",
    "mask2"
   ]
  },
  {
   "cell_type": "code",
   "execution_count": 21,
   "metadata": {},
   "outputs": [
    {
     "data": {
      "text/plain": [
       "tensor([[[[[1.0000e+05, 1.1022e-01, 1.0000e+05, 1.0000e+05, 2.0854e-01,\n",
       "            1.0000e+05, 1.0000e+05, 1.2588e-01],\n",
       "           [1.0000e+05, 1.0000e+05, 6.7751e-01, 1.0000e+05, 1.0000e+05,\n",
       "            1.0000e+05, 1.0000e+05, 1.0000e+05],\n",
       "           [1.0000e+05, 1.0000e+05, 1.0000e+05, 1.0000e+05, 1.0000e+05,\n",
       "            1.0000e+05, 1.0000e+05, 1.0000e+05],\n",
       "           [1.0000e+05, 1.0000e+05, 1.0000e+05, 1.0000e+05, 1.0000e+05,\n",
       "            1.0000e+05, 1.0000e+05, 1.0000e+05],\n",
       "           [1.0000e+05, 1.0000e+05, 1.0000e+05, 1.0000e+05, 1.0000e+05,\n",
       "            1.0000e+05, 1.0000e+05, 1.0000e+05],\n",
       "           [1.0000e+05, 1.0000e+05, 1.0000e+05, 1.0000e+05, 1.0000e+05,\n",
       "            1.0000e+05, 1.0000e+05, 1.0000e+05],\n",
       "           [1.0000e+05, 1.0000e+05, 1.0000e+05, 1.0000e+05, 1.0000e+05,\n",
       "            1.0000e+05, 1.0000e+05, 1.0000e+05],\n",
       "           [1.0000e+05, 1.0000e+05, 1.0000e+05, 1.0000e+05, 1.0000e+05,\n",
       "            1.0000e+05, 1.0000e+05, 1.0000e+05]]]]])"
      ]
     },
     "execution_count": 21,
     "metadata": {},
     "output_type": "execute_result"
    }
   ],
   "source": [
    "samples[:,:,:, mask] = 100000\n",
    "samples"
   ]
  },
  {
   "cell_type": "code",
   "execution_count": 22,
   "metadata": {},
   "outputs": [],
   "source": [
    "x_mod = samples"
   ]
  },
  {
   "cell_type": "code",
   "execution_count": 23,
   "metadata": {},
   "outputs": [],
   "source": [
    "x_mod2 = x_mod.view(-1, 1, 8 ,8)"
   ]
  },
  {
   "cell_type": "code",
   "execution_count": 24,
   "metadata": {},
   "outputs": [
    {
     "data": {
      "text/plain": [
       "torch.Size([1, 1, 8, 8])"
      ]
     },
     "execution_count": 24,
     "metadata": {},
     "output_type": "execute_result"
    }
   ],
   "source": [
    "x_mod2.shape"
   ]
  },
  {
   "cell_type": "code",
   "execution_count": 25,
   "metadata": {},
   "outputs": [
    {
     "data": {
      "text/plain": [
       "tensor([[[100000., 100000., 100000., 100000., 100000., 100000., 100000.,\n",
       "          100000., 100000., 100000., 100000., 100000., 100000., 100000.,\n",
       "          100000., 100000., 100000., 100000., 100000., 100000., 100000.,\n",
       "          100000., 100000., 100000., 100000., 100000., 100000., 100000.,\n",
       "          100000., 100000., 100000., 100000., 100000., 100000., 100000.,\n",
       "          100000., 100000., 100000., 100000., 100000., 100000., 100000.,\n",
       "          100000., 100000., 100000., 100000., 100000., 100000., 100000.,\n",
       "          100000., 100000., 100000., 100000., 100000., 100000., 100000.,\n",
       "          100000., 100000., 100000., 100000.]]])"
      ]
     },
     "execution_count": 25,
     "metadata": {},
     "output_type": "execute_result"
    }
   ],
   "source": [
    "x_mod2[..., mask]"
   ]
  },
  {
   "attachments": {},
   "cell_type": "markdown",
   "metadata": {},
   "source": [
    "# picture generating"
   ]
  },
  {
   "cell_type": "code",
   "execution_count": 26,
   "metadata": {},
   "outputs": [],
   "source": [
    "import numpy as np\n",
    "import csv\n",
    "import scipy\n",
    "from sklearn.model_selection import train_test_split\n",
    "\n",
    "\n",
    "\n",
    "tlist = scipy.io.loadmat('Heston' + '_tlist.mat')\n",
    "tlist = tlist['tlist'] # note that they are 2D array \n",
    "tlist = tlist.reshape((-1))\n",
    "# Klist = scipy.io.loadmat('msft_Klist.mat')\n",
    "Klist = scipy.io.loadmat('Heston' + '_Klist.mat')\n",
    "Klist = Klist['Klist'] # note that they are 2D array\n",
    "Klist = Klist.reshape((-1))\n",
    "totalvarsurface = scipy.io.loadmat('HestonIVSgrid_NI.mat')\n",
    "# totalvarsurface = totalvarsurface['totalvarsurface']\n",
    "totalvarsurface = totalvarsurface['HestonIVS2D']\n",
    "IVStrain, IVStest = train_test_split(totalvarsurface, test_size = 0.2, random_state = 42)"
   ]
  },
  {
   "cell_type": "code",
   "execution_count": 27,
   "metadata": {},
   "outputs": [
    {
     "name": "stdout",
     "output_type": "stream",
     "text": [
      "(6, 8, 8)\n"
     ]
    },
    {
     "data": {
      "text/plain": [
       "(6, 8, 8)"
      ]
     },
     "execution_count": 27,
     "metadata": {},
     "output_type": "execute_result"
    }
   ],
   "source": [
    "surfivs = IVStrain[0:6]\n",
    "print(surfivs.shape)\n",
    "surfivspred = surfivs.copy() * 1.2\n",
    "surfivspred[1,1] = surfivs[1,1] * 1.56\n",
    "surfivspred.shape"
   ]
  },
  {
   "cell_type": "code",
   "execution_count": 28,
   "metadata": {},
   "outputs": [],
   "source": [
    "def inpainting_error(surfivs, surfivspred, Klist, tlist,  plotname='HestoninpaintingErrors'):\n",
    "    \"\"\"surfivs shape (batch_size, image_size_y, image_size_x)\"\"\"\n",
    "    from matplotlib.ticker import FormatStrFormatter, StrMethodFormatter\n",
    "    import matplotlib.pyplot as plt\n",
    "    import matplotlib.ticker as mtick\n",
    "\n",
    "    plt.figure(1,figsize=(14,4))\n",
    "    ax=plt.subplot(1,3,1)\n",
    "    err = np.mean(100 * np.abs((surfivspred - surfivs)/ surfivs), axis =0) \n",
    "    plt.title(\"Average relative error\",fontsize=15,y=1.04)\n",
    "    plt.imshow(err.reshape(len(tlist),len(Klist)))\n",
    "    plt.colorbar(format=mtick.PercentFormatter())\n",
    "\n",
    "    ax.set_xticks(np.linspace(0,len(Klist)-1,len(Klist)))\n",
    "    ax.set_xticklabels(Klist.astype('int'))\n",
    "\n",
    "    # ax.set_yticks(np.linspace(0,len(tlist)-1,len(tlist)))\n",
    "    ax.set_yticks(np.linspace(0,len(tlist)-1,len(tlist)))\n",
    "    ax.set_yticklabels([str(round(t,2)) for t in tlist])\n",
    "    # ax.yaxis.set_major_formatter(FormatStrFormatter('%.2f'))\n",
    "    # ax.yaxis.set_major_formatter('{x:9<5.1f}')\n",
    "    # plt.gca().yaxis.set_major_formatter(StrMethodFormatter('{x:,.2f}'))\n",
    "    plt.xlabel(\"Strike\",fontsize=15,labelpad=5)\n",
    "    plt.ylabel(\"Maturity\",fontsize=15,labelpad=5)\n",
    "\n",
    "    ax=plt.subplot(1,3,2)\n",
    "    err = 100*np.std(np.abs((surfivspred-surfivs)/surfivs),axis = 0)\n",
    "    plt.title(\"Std relative error\",fontsize=15,y=1.04)\n",
    "    plt.imshow(err.reshape(len(tlist),len(Klist)))\n",
    "    plt.colorbar(format=mtick.PercentFormatter())\n",
    "    ax.set_xticks(np.linspace(0,len(Klist)-1,len(Klist)))\n",
    "    ax.set_xticklabels(Klist.astype('int'))\n",
    "    ax.set_yticks(np.linspace(0,len(tlist)-1,len(tlist)))\n",
    "    ax.set_yticklabels([str(round(t,2)) for t in tlist])\n",
    "    plt.xlabel(\"Strike\",fontsize=15,labelpad=5)\n",
    "    plt.ylabel(\"Maturity\",fontsize=15,labelpad=5)\n",
    "\n",
    "    ax=plt.subplot(1,3,3)\n",
    "    err = 100*np.max(np.abs((surfivspred-surfivs)/surfivs),axis = 0)\n",
    "    plt.title(\"Maximum relative error\",fontsize=15,y=1.04)\n",
    "    plt.imshow(err.reshape(len(tlist),len(Klist)))\n",
    "    plt.colorbar(format=mtick.PercentFormatter())\n",
    "    ax.set_xticks(np.linspace(0,len(Klist)-1,len(Klist)))\n",
    "    ax.set_xticklabels(Klist.astype('int'))\n",
    "    ax.set_yticks(np.linspace(0,len(tlist)-1,len(tlist)))\n",
    "    ax.set_yticklabels([str(round(t,2)) for t in tlist])\n",
    "    plt.xlabel(\"Strike\",fontsize=15,labelpad=5)\n",
    "    plt.ylabel(\"Maturity\",fontsize=15,labelpad=5)\n",
    "    plt.tight_layout()\n",
    "    plt.savefig(plotname+ '.png', dpi=300)\n",
    "    plt.show()\n",
    "\n"
   ]
  },
  {
   "cell_type": "code",
   "execution_count": 29,
   "metadata": {},
   "outputs": [
    {
     "ename": "ValueError",
     "evalue": "cannot reshape array of size 1 into shape (6,6)",
     "output_type": "error",
     "traceback": [
      "\u001b[1;31m---------------------------------------------------------------------------\u001b[0m",
      "\u001b[1;31mValueError\u001b[0m                                Traceback (most recent call last)",
      "Cell \u001b[1;32mIn[29], line 1\u001b[0m\n\u001b[1;32m----> 1\u001b[0m inpainting_error(tlist, Klist, surfivs, surfivspred, plotname\u001b[39m=\u001b[39;49m\u001b[39m'\u001b[39;49m\u001b[39mHestoninpaintingErrors\u001b[39;49m\u001b[39m'\u001b[39;49m)\n",
      "Cell \u001b[1;32mIn[28], line 11\u001b[0m, in \u001b[0;36minpainting_error\u001b[1;34m(surfivs, surfivspred, Klist, tlist, plotname)\u001b[0m\n\u001b[0;32m      9\u001b[0m err \u001b[39m=\u001b[39m np\u001b[39m.\u001b[39mmean(\u001b[39m100\u001b[39m \u001b[39m*\u001b[39m np\u001b[39m.\u001b[39mabs((surfivspred \u001b[39m-\u001b[39m surfivs)\u001b[39m/\u001b[39m surfivs), axis \u001b[39m=\u001b[39m\u001b[39m0\u001b[39m) \n\u001b[0;32m     10\u001b[0m plt\u001b[39m.\u001b[39mtitle(\u001b[39m\"\u001b[39m\u001b[39mAverage relative error\u001b[39m\u001b[39m\"\u001b[39m,fontsize\u001b[39m=\u001b[39m\u001b[39m15\u001b[39m,y\u001b[39m=\u001b[39m\u001b[39m1.04\u001b[39m)\n\u001b[1;32m---> 11\u001b[0m plt\u001b[39m.\u001b[39mimshow(err\u001b[39m.\u001b[39;49mreshape(\u001b[39mlen\u001b[39;49m(tlist),\u001b[39mlen\u001b[39;49m(Klist)))\n\u001b[0;32m     12\u001b[0m plt\u001b[39m.\u001b[39mcolorbar(\u001b[39mformat\u001b[39m\u001b[39m=\u001b[39mmtick\u001b[39m.\u001b[39mPercentFormatter())\n\u001b[0;32m     14\u001b[0m ax\u001b[39m.\u001b[39mset_xticks(np\u001b[39m.\u001b[39mlinspace(\u001b[39m0\u001b[39m,\u001b[39mlen\u001b[39m(Klist)\u001b[39m-\u001b[39m\u001b[39m1\u001b[39m,\u001b[39mlen\u001b[39m(Klist)))\n",
      "\u001b[1;31mValueError\u001b[0m: cannot reshape array of size 1 into shape (6,6)"
     ]
    },
    {
     "data": {
      "image/png": "[encoded data removed]",
      "text/plain": [
       "<Figure size 1400x400 with 1 Axes>"
      ]
     },
     "metadata": {},
     "output_type": "display_data"
    }
   ],
   "source": [
    "inpainting_error(tlist, Klist, surfivs, surfivspred, plotname='HestoninpaintingErrors')"
   ]
  },
  {
   "cell_type": "code",
   "execution_count": null,
   "metadata": {},
   "outputs": [
    {
     "data": {
      "text/plain": [
       "array([ 60.65306597,  69.96725374,  80.7117747 ,  93.10627797,\n",
       "       107.40414307, 123.89765975, 142.92400324, 164.87212707])"
      ]
     },
     "execution_count": 16,
     "metadata": {},
     "output_type": "execute_result"
    }
   ],
   "source": [
    "Klist"
   ]
  },
  {
   "cell_type": "code",
   "execution_count": 30,
   "metadata": {},
   "outputs": [
    {
     "ename": "NameError",
     "evalue": "name 'strikes' is not defined",
     "output_type": "error",
     "traceback": [
      "\u001b[1;31m---------------------------------------------------------------------------\u001b[0m",
      "\u001b[1;31mNameError\u001b[0m                                 Traceback (most recent call last)",
      "Cell \u001b[1;32mIn[30], line 3\u001b[0m\n\u001b[0;32m      1\u001b[0m strikes_dim\u001b[39m=\u001b[39m\u001b[39mlen\u001b[39m(Klist)\n\u001b[0;32m      2\u001b[0m maturities_dim\u001b[39m=\u001b[39m\u001b[39mlen\u001b[39m(tlist)\n\u001b[1;32m----> 3\u001b[0m strikeslabel\u001b[39m=\u001b[39mnp\u001b[39m.\u001b[39mround(np\u001b[39m.\u001b[39mlinspace(strikes[\u001b[39m0\u001b[39m],strikes[\u001b[39m-\u001b[39m\u001b[39m1\u001b[39m],\u001b[39m8\u001b[39m),\u001b[39m1\u001b[39m)\n\u001b[0;32m      4\u001b[0m maturitieslabel\u001b[39m=\u001b[39mnp\u001b[39m.\u001b[39marray([\u001b[39m0.1\u001b[39m,\u001b[39m0.2\u001b[39m, \u001b[39m0.6\u001b[39m, \u001b[39m1.5\u001b[39m,\u001b[39m1.8\u001b[39m])\n\u001b[0;32m      5\u001b[0m \u001b[39m##### AVERAGE VALUES #######\u001b[39;00m\n",
      "\u001b[1;31mNameError\u001b[0m: name 'strikes' is not defined"
     ]
    }
   ],
   "source": [
    "# strikes_dim=len(Klist)\n",
    "# maturities_dim=len(tlist)\n",
    "# strikeslabel=np.round(np.linspace(strikes[0],strikes[-1],8),1)\n",
    "# maturitieslabel=np.array([0.1,0.2, 0.6, 1.5,1.8])\n",
    "# ##### AVERAGE VALUES #######\n",
    "# X_sample = xinversetransform(x_test_transform)\n",
    "# y_sample = y_test_transform\n",
    "\n",
    "# prediction=[xinversetransform(modelGEN.predict(y_sample[i].reshape(1,5))[0]) for i in range(len(y_sample))]\n",
    "# plt.figure(1,figsize=(14,4))\n",
    "# ax=plt.subplot(1,3,1)\n",
    "# err = np.mean(100*np.abs((X_sample-prediction)/X_sample),axis = 0)\n",
    "# plt.title(\"Average relative error\",fontsize=15,y=1.04)\n",
    "# plt.imshow(err.reshape(maturities_dim,strikes_dim))\n",
    "# plt.colorbar(format=mtick.PercentFormatter())\n",
    "\n",
    "# ax.set_xticks(np.linspace(0,len(strikes)-1,len(strikes)))\n",
    "# ax.set_xticklabels(strikes)\n",
    "# ax.set_yticks(np.linspace(0,len(maturities)-1,len(maturities)))\n",
    "# ax.set_yticklabels(maturities)\n",
    "# plt.xlabel(\"Strike\",fontsize=15,labelpad=5)\n",
    "# plt.ylabel(\"Maturity\",fontsize=15,labelpad=5)"
   ]
  },
  {
   "attachments": {},
   "cell_type": "markdown",
   "metadata": {},
   "source": [
    "# Testing out Dataloader and Dset"
   ]
  },
  {
   "cell_type": "code",
   "execution_count": null,
   "metadata": {},
   "outputs": [],
   "source": [
    "IVStrain, IVStest = train_test_split(totalvarsurface, test_size = 0.2, random_state = 42)"
   ]
  },
  {
   "cell_type": "code",
   "execution_count": 37,
   "metadata": {},
   "outputs": [],
   "source": [
    "from datasets.Dset import *\n",
    "from torch.utils.data import DataLoader, Subset\n",
    "\n",
    "dataset = Dset(IVStest)\n",
    "dataset = Dset(IVStest)\n",
    "batch_size = 10\n",
    "dataloader = DataLoader(dataset, batch_size=batch_size,shuffle=True, drop_last=True)\n",
    "refer_image = next(iter(dataloader))"
   ]
  },
  {
   "cell_type": "code",
   "execution_count": 50,
   "metadata": {},
   "outputs": [
    {
     "data": {
      "text/plain": [
       "torch.Size([1282, 8, 8])"
      ]
     },
     "execution_count": 50,
     "metadata": {},
     "output_type": "execute_result"
    }
   ],
   "source": [
    "dataset.x."
   ]
  },
  {
   "cell_type": "code",
   "execution_count": 38,
   "metadata": {},
   "outputs": [
    {
     "data": {
      "text/plain": [
       "torch.Size([10, 8, 8])"
      ]
     },
     "execution_count": 38,
     "metadata": {},
     "output_type": "execute_result"
    }
   ],
   "source": [
    "refer_image.shape"
   ]
  },
  {
   "cell_type": "code",
   "execution_count": 41,
   "metadata": {},
   "outputs": [
    {
     "data": {
      "text/plain": [
       "torch.Tensor"
      ]
     },
     "execution_count": 41,
     "metadata": {},
     "output_type": "execute_result"
    }
   ],
   "source": [
    "pred_test = refer_image * 1.2\n",
    "type(pred_test)"
   ]
  },
  {
   "cell_type": "code",
   "execution_count": 43,
   "metadata": {},
   "outputs": [],
   "source": [
    "def inpainting_error_torch(surfivs, surfivspred, Klist, tlist, savepath, ):\n",
    "    \"\"\"surfivs shape (batch_size, image_size_y, image_size_x)\"\"\"\n",
    "    from matplotlib.ticker import FormatStrFormatter, StrMethodFormatter\n",
    "    import matplotlib.pyplot as plt\n",
    "    import matplotlib.ticker as mtick\n",
    "    import torch\n",
    "    plt.figure(1,figsize=(14,4))\n",
    "    ax=plt.subplot(1,3,1)\n",
    "    # err = np.mean(100 * np.abs((surfivspred - surfivs)/ surfivs), axis =0) \n",
    "    err = torch.mean(100 * torch.abs((surfivspred - surfivs)/ surfivs), dim =0) \n",
    "    plt.title(\"Average relative error\",fontsize=15,y=1.04)\n",
    "    plt.imshow(err.reshape(len(tlist),len(Klist)))\n",
    "    plt.colorbar(format=mtick.PercentFormatter())\n",
    "\n",
    "    ax.set_xticks(np.linspace(0,len(Klist)-1,len(Klist)))\n",
    "    ax.set_xticklabels(Klist.astype('int'))\n",
    "\n",
    "    # ax.set_yticks(np.linspace(0,len(tlist)-1,len(tlist)))\n",
    "    ax.set_yticks(np.linspace(0,len(tlist)-1,len(tlist)))\n",
    "    ax.set_yticklabels([str(round(t,2)) for t in tlist])\n",
    "    # ax.yaxis.set_major_formatter(FormatStrFormatter('%.2f'))\n",
    "    # ax.yaxis.set_major_formatter('{x:9<5.1f}')\n",
    "    # plt.gca().yaxis.set_major_formatter(StrMethodFormatter('{x:,.2f}'))\n",
    "    plt.xlabel(\"Strike\",fontsize=15,labelpad=5)\n",
    "    plt.ylabel(\"Maturity\",fontsize=15,labelpad=5)\n",
    "\n",
    "    ax=plt.subplot(1,3,2)\n",
    "    # err = 100*np.std(np.abs((surfivspred-surfivs)/surfivs),axis = 0)\n",
    "    err = 100*torch.std(torch.abs((surfivspred-surfivs)/surfivs),dim = 0)\n",
    "    plt.title(\"Std relative error\",fontsize=15,y=1.04)\n",
    "    plt.imshow(err.reshape(len(tlist),len(Klist)))\n",
    "    plt.colorbar(format=mtick.PercentFormatter())\n",
    "    ax.set_xticks(np.linspace(0,len(Klist)-1,len(Klist)))\n",
    "    ax.set_xticklabels(Klist.astype('int'))\n",
    "    ax.set_yticks(np.linspace(0,len(tlist)-1,len(tlist)))\n",
    "    ax.set_yticklabels([str(round(t,2)) for t in tlist])\n",
    "    plt.xlabel(\"Strike\",fontsize=15,labelpad=5)\n",
    "    plt.ylabel(\"Maturity\",fontsize=15,labelpad=5)\n",
    "\n",
    "    ax=plt.subplot(1,3,3)\n",
    "    # err = 100*np.max(np.abs((surfivspred-surfivs)/surfivs),axis = 0)\n",
    "    err = 100*torch.max(torch.abs((surfivspred-surfivs)/surfivs),dim = 0)[0]\n",
    "    plt.title(\"Maximum relative error\",fontsize=15,y=1.04)\n",
    "    plt.imshow(err.reshape(len(tlist),len(Klist)))\n",
    "    plt.colorbar(format=mtick.PercentFormatter())\n",
    "    ax.set_xticks(np.linspace(0,len(Klist)-1,len(Klist)))\n",
    "    ax.set_xticklabels(Klist.astype('int'))\n",
    "    ax.set_yticks(np.linspace(0,len(tlist)-1,len(tlist)))\n",
    "    ax.set_yticklabels([str(round(t,2)) for t in tlist])\n",
    "    plt.xlabel(\"Strike\",fontsize=15,labelpad=5)\n",
    "    plt.ylabel(\"Maturity\",fontsize=15,labelpad=5)\n",
    "    plt.tight_layout()\n",
    "    plt.savefig(savepath, dpi=300)\n",
    "    # plt.show()"
   ]
  },
  {
   "cell_type": "code",
   "execution_count": 45,
   "metadata": {},
   "outputs": [
    {
     "data": {
      "image/png": "[encoded data removed]",
      "text/plain": [
       "<Figure size 1400x400 with 6 Axes>"
      ]
     },
     "metadata": {},
     "output_type": "display_data"
    }
   ],
   "source": [
    "# savepath2 = os.path.join(self.args.image_folder, 'ivs_error_inpaintingtest.png')\n",
    "inpainting_error_torch(pred_test, refer_image, Klist, tlist, 'ivs_error_inpaintingtest.png', )"
   ]
  },
  {
   "cell_type": "code",
   "execution_count": 47,
   "metadata": {},
   "outputs": [
    {
     "data": {
      "text/plain": [
       "torch.Size([10, 8, 8])"
      ]
     },
     "execution_count": 47,
     "metadata": {},
     "output_type": "execute_result"
    }
   ],
   "source": [
    "pred_test.shape"
   ]
  },
  {
   "cell_type": "code",
   "execution_count": 54,
   "metadata": {},
   "outputs": [
    {
     "data": {
      "text/plain": [
       "array([0.5       , 0.57142857, 0.64285714, 0.71428571, 0.78571429,\n",
       "       0.85714286, 0.92857143, 1.        ])"
      ]
     },
     "execution_count": 54,
     "metadata": {},
     "output_type": "execute_result"
    }
   ],
   "source": [
    "totalvarsurface\n",
    "tlist"
   ]
  },
  {
   "cell_type": "code",
   "execution_count": 67,
   "metadata": {},
   "outputs": [],
   "source": [
    "tlist_broadcast = tlist.reshape((1, 8, 1))\n",
    "totalvarsurface_scaled = totalvarsurface**2 * tlist_broadcast"
   ]
  },
  {
   "cell_type": "code",
   "execution_count": 68,
   "metadata": {},
   "outputs": [
    {
     "data": {
      "text/plain": [
       "array([[0.65521685, 0.64610361, 0.63688751, 0.6275889 , 0.61823171,\n",
       "        0.6088458 , 0.59946916, 0.59014974],\n",
       "       [0.65032957, 0.64122107, 0.63201047, 0.62271694, 0.61336384,\n",
       "        0.60398078, 0.5946057 , 0.5852867 ],\n",
       "       [0.64553117, 0.63642963, 0.62722626, 0.61793945, 0.60859208,\n",
       "        0.59921361, 0.58984192, 0.58052526],\n",
       "       [0.64082037, 0.63172765, 0.62253314, 0.6132546 , 0.60391461,\n",
       "        0.59454242, 0.58517595, 0.57586354],\n",
       "       [0.63619576, 0.62711351, 0.61792938, 0.60866064, 0.5993296 ,\n",
       "        0.58996541, 0.58060595, 0.5712997 ],\n",
       "       [0.63165582, 0.62258557, 0.61341326, 0.60415581, 0.59483531,\n",
       "        0.58548079, 0.57613014, 0.56683191],\n",
       "       [0.62719904, 0.61814219, 0.60898311, 0.59973841, 0.59042998,\n",
       "        0.58108679, 0.5717467 , 0.56245835],\n",
       "       [0.62282389, 0.61378178, 0.60463727, 0.59540673, 0.58611191,\n",
       "        0.57678167, 0.56745388, 0.55817724]])"
      ]
     },
     "execution_count": 68,
     "metadata": {},
     "output_type": "execute_result"
    }
   ],
   "source": [
    "totalvarsurface[0]"
   ]
  },
  {
   "cell_type": "code",
   "execution_count": 69,
   "metadata": {},
   "outputs": [
    {
     "data": {
      "text/plain": [
       "array([0.21465456, 0.24167345, 0.26788531, 0.29332197, 0.31801396,\n",
       "       0.34199064, 0.36528017, 0.3879096 ])"
      ]
     },
     "execution_count": 69,
     "metadata": {},
     "output_type": "execute_result"
    }
   ],
   "source": [
    "totalvarsurface_scaled[0, :, 0]"
   ]
  },
  {
   "cell_type": "code",
   "execution_count": 70,
   "metadata": {},
   "outputs": [
    {
     "data": {
      "text/plain": [
       "array([[0.21465456, 0.20872494, 0.20281285, 0.19693391, 0.19110522,\n",
       "        0.18534661, 0.17968164, 0.17413836],\n",
       "       [0.24167345, 0.23495112, 0.22824985, 0.22158651, 0.21498012,\n",
       "        0.20845302, 0.20203197, 0.19574887],\n",
       "       [0.26788531, 0.26038457, 0.25290822, 0.24547446, 0.23810421,\n",
       "        0.23082232, 0.22365867, 0.21664901],\n",
       "       [0.29332197, 0.28505702, 0.27681965, 0.26862944, 0.26050918,\n",
       "        0.25248621, 0.24459349, 0.23687059],\n",
       "       [0.31801396, 0.30899892, 0.30001456, 0.29108182, 0.28222541,\n",
       "        0.27347508, 0.26486686, 0.25644406],\n",
       "       [0.34199064, 0.33223953, 0.32252214, 0.31286078, 0.30328204,\n",
       "        0.29381808, 0.28450794, 0.27539864],\n",
       "       [0.36528017, 0.35480693, 0.3443704 , 0.33399429, 0.32370703,\n",
       "        0.31354316, 0.3035447 , 0.2937623 ],\n",
       "       [0.3879096 , 0.37672807, 0.36558623, 0.35450918, 0.34352717,\n",
       "        0.33267709, 0.3220039 , 0.31156184]])"
      ]
     },
     "execution_count": 70,
     "metadata": {},
     "output_type": "execute_result"
    }
   ],
   "source": [
    "totalvarsurface_scaled[0, :, :]\n",
    "# this good!"
   ]
  }
 ],
 "metadata": {
  "kernelspec": {
   "display_name": "pytorch",
   "language": "python",
   "name": "python3"
  },
  "language_info": {
   "codemirror_mode": {
    "name": "ipython",
    "version": 3
   },
   "file_extension": ".py",
   "mimetype": "text/x-python",
   "name": "python",
   "nbconvert_exporter": "python",
   "pygments_lexer": "ipython3",
   "version": "3.9.16"
  },
  "orig_nbformat": 4,
  "vscode": {
   "interpreter": {
    "hash": "7789b6f643234f6308d38e292d2dfeb321252a899d74fec1b2649e67622f5aa2"
   }
  }
 },
 "nbformat": 4,
 "nbformat_minor": 2
}
