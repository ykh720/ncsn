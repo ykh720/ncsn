{
 "cells": [
  {
   "cell_type": "code",
   "execution_count": 1,
   "metadata": {},
   "outputs": [
    {
     "name": "stderr",
     "output_type": "stream",
     "text": [
      "c:\\Users\\huiyi\\anaconda3\\envs\\pytorch\\lib\\site-packages\\tqdm\\auto.py:22: TqdmWarning: IProgress not found. Please update jupyter and ipywidgets. See https://ipywidgets.readthedocs.io/en/stable/user_install.html\n",
      "  from .autonotebook import tqdm as notebook_tqdm\n"
     ]
    }
   ],
   "source": [
    "import torch"
   ]
  },
  {
   "cell_type": "code",
   "execution_count": 2,
   "metadata": {},
   "outputs": [],
   "source": [
    "samples = torch.rand(1, 1, 1, 8, 8)"
   ]
  },
  {
   "cell_type": "code",
   "execution_count": 3,
   "metadata": {},
   "outputs": [],
   "source": [
    "mask = torch.BoolTensor(8, 8)\n",
    "mask[1,1] = True\n",
    "\n"
   ]
  },
  {
   "cell_type": "code",
   "execution_count": 4,
   "metadata": {},
   "outputs": [
    {
     "data": {
      "text/plain": [
       "tensor([[ True,  True,  True,  True,  True,  True,  True,  True],\n",
       "        [ True, False,  True,  True,  True,  True,  True,  True],\n",
       "        [ True,  True,  True,  True,  True,  True,  True,  True],\n",
       "        [ True,  True,  True,  True,  True,  True,  True,  True],\n",
       "        [ True,  True,  True,  True,  True,  True,  True,  True],\n",
       "        [ True,  True,  True,  True,  True,  True,  True,  True],\n",
       "        [ True,  True,  True,  True,  True,  True,  True,  True],\n",
       "        [ True,  True,  True,  True,  True,  True,  True,  True]])"
      ]
     },
     "execution_count": 4,
     "metadata": {},
     "output_type": "execute_result"
    }
   ],
   "source": [
    "mask2 = torch.ones(8,8, dtype=torch.bool)\n",
    "\n",
    "mask2[1,1] = False\n",
    "\n",
    "mask2"
   ]
  },
  {
   "cell_type": "code",
   "execution_count": 5,
   "metadata": {},
   "outputs": [
    {
     "data": {
      "text/plain": [
       "tensor([[[[[1.0000e+05, 1.0000e+05, 1.0000e+05, 1.0000e+05, 1.0000e+05,\n",
       "            1.0000e+05, 1.0000e+05, 1.0000e+05],\n",
       "           [1.0000e+05, 1.0000e+05, 1.0000e+05, 1.0000e+05, 1.0000e+05,\n",
       "            1.0000e+05, 1.0000e+05, 1.0000e+05],\n",
       "           [1.0000e+05, 1.0000e+05, 1.0000e+05, 1.0000e+05, 1.0000e+05,\n",
       "            1.0000e+05, 1.0000e+05, 1.0000e+05],\n",
       "           [1.0000e+05, 1.0000e+05, 1.0000e+05, 1.0000e+05, 1.0000e+05,\n",
       "            1.0000e+05, 1.0000e+05, 1.0000e+05],\n",
       "           [1.0000e+05, 1.0000e+05, 1.0000e+05, 1.0000e+05, 1.0000e+05,\n",
       "            1.0000e+05, 9.5512e-01, 5.7511e-02],\n",
       "           [1.0000e+05, 1.0000e+05, 1.0000e+05, 1.0000e+05, 1.0000e+05,\n",
       "            1.0000e+05, 7.0986e-01, 3.9303e-02],\n",
       "           [1.0000e+05, 1.0000e+05, 1.0000e+05, 1.0000e+05, 1.0000e+05,\n",
       "            1.0000e+05, 9.9758e-01, 5.3504e-01],\n",
       "           [1.0000e+05, 1.0000e+05, 1.0000e+05, 1.0000e+05, 1.0000e+05,\n",
       "            1.0000e+05, 2.2661e-01, 1.7957e-01]]]]])"
      ]
     },
     "execution_count": 5,
     "metadata": {},
     "output_type": "execute_result"
    }
   ],
   "source": [
    "samples[:,:,:, mask] = 100000\n",
    "samples"
   ]
  },
  {
   "cell_type": "code",
   "execution_count": 6,
   "metadata": {},
   "outputs": [],
   "source": [
    "x_mod = samples"
   ]
  },
  {
   "cell_type": "code",
   "execution_count": 7,
   "metadata": {},
   "outputs": [],
   "source": [
    "x_mod2 = x_mod.view(-1, 1, 8 ,8)"
   ]
  },
  {
   "cell_type": "code",
   "execution_count": 8,
   "metadata": {},
   "outputs": [
    {
     "data": {
      "text/plain": [
       "torch.Size([1, 1, 8, 8])"
      ]
     },
     "execution_count": 8,
     "metadata": {},
     "output_type": "execute_result"
    }
   ],
   "source": [
    "x_mod2.shape"
   ]
  },
  {
   "cell_type": "code",
   "execution_count": 9,
   "metadata": {},
   "outputs": [
    {
     "data": {
      "text/plain": [
       "tensor([[[100000., 100000., 100000., 100000., 100000., 100000., 100000.,\n",
       "          100000., 100000., 100000., 100000., 100000., 100000., 100000.,\n",
       "          100000., 100000., 100000., 100000., 100000., 100000., 100000.,\n",
       "          100000., 100000., 100000., 100000., 100000., 100000., 100000.,\n",
       "          100000., 100000., 100000., 100000., 100000., 100000., 100000.,\n",
       "          100000., 100000., 100000., 100000., 100000., 100000., 100000.,\n",
       "          100000., 100000., 100000., 100000., 100000., 100000., 100000.,\n",
       "          100000., 100000., 100000., 100000., 100000., 100000., 100000.]]])"
      ]
     },
     "execution_count": 9,
     "metadata": {},
     "output_type": "execute_result"
    }
   ],
   "source": [
    "x_mod2[..., mask]"
   ]
  },
  {
   "attachments": {},
   "cell_type": "markdown",
   "metadata": {},
   "source": [
    "# picture generating"
   ]
  },
  {
   "cell_type": "code",
   "execution_count": 10,
   "metadata": {},
   "outputs": [],
   "source": [
    "import numpy as np\n",
    "import csv\n",
    "import scipy\n",
    "from sklearn.model_selection import train_test_split\n",
    "\n",
    "\n",
    "\n",
    "tlist = scipy.io.loadmat('Heston' + '_tlist.mat')\n",
    "tlist = tlist['tlist'] # note that they are 2D array \n",
    "tlist = tlist.reshape((-1))\n",
    "# Klist = scipy.io.loadmat('msft_Klist.mat')\n",
    "Klist = scipy.io.loadmat('Heston' + '_Klist.mat')\n",
    "Klist = Klist['Klist'] # note that they are 2D array\n",
    "Klist = Klist.reshape((-1))\n",
    "totalvarsurface = scipy.io.loadmat('HestonIVSgrid_NI.mat')\n",
    "# totalvarsurface = totalvarsurface['totalvarsurface']\n",
    "totalvarsurface = totalvarsurface['HestonIVS2D']\n",
    "IVStrain, IVStest = train_test_split(totalvarsurface, test_size = 0.2, random_state = 42)"
   ]
  },
  {
   "cell_type": "code",
   "execution_count": 11,
   "metadata": {},
   "outputs": [
    {
     "data": {
      "text/plain": [
       "8"
      ]
     },
     "execution_count": 11,
     "metadata": {},
     "output_type": "execute_result"
    }
   ],
   "source": [
    "len(tlist)"
   ]
  },
  {
   "cell_type": "code",
   "execution_count": 12,
   "metadata": {},
   "outputs": [
    {
     "name": "stdout",
     "output_type": "stream",
     "text": [
      "(6, 8, 8)\n"
     ]
    },
    {
     "data": {
      "text/plain": [
       "(6, 8, 8)"
      ]
     },
     "execution_count": 12,
     "metadata": {},
     "output_type": "execute_result"
    }
   ],
   "source": [
    "surfivs = IVStrain[0:6]\n",
    "print(surfivs.shape)\n",
    "surfivspred = surfivs.copy() * 1.2\n",
    "surfivspred[1,1] = surfivs[1,1] * 1.56\n",
    "surfivspred.shape"
   ]
  },
  {
   "cell_type": "code",
   "execution_count": 13,
   "metadata": {},
   "outputs": [],
   "source": [
    "def inpainting_error(surfivs, surfivspred, Klist, tlist,  plotname='HestoninpaintingErrors'):\n",
    "    \"\"\"surfivs shape (batch_size, image_size_y, image_size_x)\"\"\"\n",
    "    from matplotlib.ticker import FormatStrFormatter, StrMethodFormatter\n",
    "    import matplotlib.pyplot as plt\n",
    "    import matplotlib.ticker as mtick\n",
    "\n",
    "    plt.figure(1,figsize=(14,4))\n",
    "    ax=plt.subplot(1,3,1)\n",
    "    err = np.mean(100 * np.abs((surfivspred - surfivs)/ surfivs), axis =0) \n",
    "    plt.title(\"Average relative error\",fontsize=15,y=1.04)\n",
    "    plt.imshow(err.reshape(len(tlist),len(Klist)))\n",
    "    plt.colorbar(format=mtick.PercentFormatter())\n",
    "\n",
    "    ax.set_xticks(np.linspace(0,len(Klist)-1,len(Klist)))\n",
    "    ax.set_xticklabels(Klist.astype('int'))\n",
    "\n",
    "    # ax.set_yticks(np.linspace(0,len(tlist)-1,len(tlist)))\n",
    "    ax.set_yticks(np.linspace(0,len(tlist)-1,len(tlist)))\n",
    "    ax.set_yticklabels([str(round(t,2)) for t in tlist])\n",
    "    # ax.yaxis.set_major_formatter(FormatStrFormatter('%.2f'))\n",
    "    # ax.yaxis.set_major_formatter('{x:9<5.1f}')\n",
    "    # plt.gca().yaxis.set_major_formatter(StrMethodFormatter('{x:,.2f}'))\n",
    "    plt.xlabel(\"Strike\",fontsize=15,labelpad=5)\n",
    "    plt.ylabel(\"Maturity\",fontsize=15,labelpad=5)\n",
    "\n",
    "    ax=plt.subplot(1,3,2)\n",
    "    err = 100*np.std(np.abs((surfivspred-surfivs)/surfivs),axis = 0)\n",
    "    plt.title(\"Std relative error\",fontsize=15,y=1.04)\n",
    "    plt.imshow(err.reshape(len(tlist),len(Klist)))\n",
    "    plt.colorbar(format=mtick.PercentFormatter())\n",
    "    ax.set_xticks(np.linspace(0,len(Klist)-1,len(Klist)))\n",
    "    ax.set_xticklabels(Klist.astype('int'))\n",
    "    ax.set_yticks(np.linspace(0,len(tlist)-1,len(tlist)))\n",
    "    ax.set_yticklabels([str(round(t,2)) for t in tlist])\n",
    "    plt.xlabel(\"Strike\",fontsize=15,labelpad=5)\n",
    "    plt.ylabel(\"Maturity\",fontsize=15,labelpad=5)\n",
    "\n",
    "    ax=plt.subplot(1,3,3)\n",
    "    err = 100*np.max(np.abs((surfivspred-surfivs)/surfivs),axis = 0)\n",
    "    plt.title(\"Maximum relative error\",fontsize=15,y=1.04)\n",
    "    plt.imshow(err.reshape(len(tlist),len(Klist)))\n",
    "    plt.colorbar(format=mtick.PercentFormatter())\n",
    "    ax.set_xticks(np.linspace(0,len(Klist)-1,len(Klist)))\n",
    "    ax.set_xticklabels(Klist.astype('int'))\n",
    "    ax.set_yticks(np.linspace(0,len(tlist)-1,len(tlist)))\n",
    "    ax.set_yticklabels([str(round(t,2)) for t in tlist])\n",
    "    plt.xlabel(\"Strike\",fontsize=15,labelpad=5)\n",
    "    plt.ylabel(\"Maturity\",fontsize=15,labelpad=5)\n",
    "    plt.tight_layout()\n",
    "    plt.savefig(plotname+ '.png', dpi=300)\n",
    "    plt.show()\n",
    "\n"
   ]
  },
  {
   "cell_type": "code",
   "execution_count": 14,
   "metadata": {},
   "outputs": [
    {
     "ename": "ValueError",
     "evalue": "cannot reshape array of size 1 into shape (6,6)",
     "output_type": "error",
     "traceback": [
      "\u001b[1;31m---------------------------------------------------------------------------\u001b[0m",
      "\u001b[1;31mValueError\u001b[0m                                Traceback (most recent call last)",
      "Cell \u001b[1;32mIn[14], line 1\u001b[0m\n\u001b[1;32m----> 1\u001b[0m inpainting_error(tlist, Klist, surfivs, surfivspred, plotname\u001b[39m=\u001b[39;49m\u001b[39m'\u001b[39;49m\u001b[39mHestoninpaintingErrors\u001b[39;49m\u001b[39m'\u001b[39;49m)\n",
      "Cell \u001b[1;32mIn[13], line 11\u001b[0m, in \u001b[0;36minpainting_error\u001b[1;34m(surfivs, surfivspred, Klist, tlist, plotname)\u001b[0m\n\u001b[0;32m      9\u001b[0m err \u001b[39m=\u001b[39m np\u001b[39m.\u001b[39mmean(\u001b[39m100\u001b[39m \u001b[39m*\u001b[39m np\u001b[39m.\u001b[39mabs((surfivspred \u001b[39m-\u001b[39m surfivs)\u001b[39m/\u001b[39m surfivs), axis \u001b[39m=\u001b[39m\u001b[39m0\u001b[39m) \n\u001b[0;32m     10\u001b[0m plt\u001b[39m.\u001b[39mtitle(\u001b[39m\"\u001b[39m\u001b[39mAverage relative error\u001b[39m\u001b[39m\"\u001b[39m,fontsize\u001b[39m=\u001b[39m\u001b[39m15\u001b[39m,y\u001b[39m=\u001b[39m\u001b[39m1.04\u001b[39m)\n\u001b[1;32m---> 11\u001b[0m plt\u001b[39m.\u001b[39mimshow(err\u001b[39m.\u001b[39;49mreshape(\u001b[39mlen\u001b[39;49m(tlist),\u001b[39mlen\u001b[39;49m(Klist)))\n\u001b[0;32m     12\u001b[0m plt\u001b[39m.\u001b[39mcolorbar(\u001b[39mformat\u001b[39m\u001b[39m=\u001b[39mmtick\u001b[39m.\u001b[39mPercentFormatter())\n\u001b[0;32m     14\u001b[0m ax\u001b[39m.\u001b[39mset_xticks(np\u001b[39m.\u001b[39mlinspace(\u001b[39m0\u001b[39m,\u001b[39mlen\u001b[39m(Klist)\u001b[39m-\u001b[39m\u001b[39m1\u001b[39m,\u001b[39mlen\u001b[39m(Klist)))\n",
      "\u001b[1;31mValueError\u001b[0m: cannot reshape array of size 1 into shape (6,6)"
     ]
    },
    {
     "data": {
      "image/png": "[encoded data removed]",
      "text/plain": [
       "<Figure size 1400x400 with 1 Axes>"
      ]
     },
     "metadata": {},
     "output_type": "display_data"
    }
   ],
   "source": [
    "inpainting_error(tlist, Klist, surfivs, surfivspred, plotname='HestoninpaintingErrors')"
   ]
  },
  {
   "cell_type": "code",
   "execution_count": 15,
   "metadata": {},
   "outputs": [
    {
     "data": {
      "text/plain": [
       "array([ 60.65306597,  69.96725374,  80.7117747 ,  93.10627797,\n",
       "       107.40414307, 123.89765975, 142.92400324, 164.87212707])"
      ]
     },
     "execution_count": 15,
     "metadata": {},
     "output_type": "execute_result"
    }
   ],
   "source": [
    "Klist"
   ]
  },
  {
   "cell_type": "code",
   "execution_count": null,
   "metadata": {},
   "outputs": [
    {
     "ename": "NameError",
     "evalue": "name 'strikes' is not defined",
     "output_type": "error",
     "traceback": [
      "\u001b[1;31m---------------------------------------------------------------------------\u001b[0m",
      "\u001b[1;31mNameError\u001b[0m                                 Traceback (most recent call last)",
      "Cell \u001b[1;32mIn[30], line 3\u001b[0m\n\u001b[0;32m      1\u001b[0m strikes_dim\u001b[39m=\u001b[39m\u001b[39mlen\u001b[39m(Klist)\n\u001b[0;32m      2\u001b[0m maturities_dim\u001b[39m=\u001b[39m\u001b[39mlen\u001b[39m(tlist)\n\u001b[1;32m----> 3\u001b[0m strikeslabel\u001b[39m=\u001b[39mnp\u001b[39m.\u001b[39mround(np\u001b[39m.\u001b[39mlinspace(strikes[\u001b[39m0\u001b[39m],strikes[\u001b[39m-\u001b[39m\u001b[39m1\u001b[39m],\u001b[39m8\u001b[39m),\u001b[39m1\u001b[39m)\n\u001b[0;32m      4\u001b[0m maturitieslabel\u001b[39m=\u001b[39mnp\u001b[39m.\u001b[39marray([\u001b[39m0.1\u001b[39m,\u001b[39m0.2\u001b[39m, \u001b[39m0.6\u001b[39m, \u001b[39m1.5\u001b[39m,\u001b[39m1.8\u001b[39m])\n\u001b[0;32m      5\u001b[0m \u001b[39m##### AVERAGE VALUES #######\u001b[39;00m\n",
      "\u001b[1;31mNameError\u001b[0m: name 'strikes' is not defined"
     ]
    }
   ],
   "source": [
    "# strikes_dim=len(Klist)\n",
    "# maturities_dim=len(tlist)\n",
    "# strikeslabel=np.round(np.linspace(strikes[0],strikes[-1],8),1)\n",
    "# maturitieslabel=np.array([0.1,0.2, 0.6, 1.5,1.8])\n",
    "# ##### AVERAGE VALUES #######\n",
    "# X_sample = xinversetransform(x_test_transform)\n",
    "# y_sample = y_test_transform\n",
    "\n",
    "# prediction=[xinversetransform(modelGEN.predict(y_sample[i].reshape(1,5))[0]) for i in range(len(y_sample))]\n",
    "# plt.figure(1,figsize=(14,4))\n",
    "# ax=plt.subplot(1,3,1)\n",
    "# err = np.mean(100*np.abs((X_sample-prediction)/X_sample),axis = 0)\n",
    "# plt.title(\"Average relative error\",fontsize=15,y=1.04)\n",
    "# plt.imshow(err.reshape(maturities_dim,strikes_dim))\n",
    "# plt.colorbar(format=mtick.PercentFormatter())\n",
    "\n",
    "# ax.set_xticks(np.linspace(0,len(strikes)-1,len(strikes)))\n",
    "# ax.set_xticklabels(strikes)\n",
    "# ax.set_yticks(np.linspace(0,len(maturities)-1,len(maturities)))\n",
    "# ax.set_yticklabels(maturities)\n",
    "# plt.xlabel(\"Strike\",fontsize=15,labelpad=5)\n",
    "# plt.ylabel(\"Maturity\",fontsize=15,labelpad=5)"
   ]
  },
  {
   "attachments": {},
   "cell_type": "markdown",
   "metadata": {},
   "source": [
    "# Testing out Dataloader and Dset"
   ]
  },
  {
   "cell_type": "code",
   "execution_count": 16,
   "metadata": {},
   "outputs": [],
   "source": [
    "IVStrain, IVStest = train_test_split(totalvarsurface, test_size = 0.2, random_state = 42)"
   ]
  },
  {
   "cell_type": "code",
   "execution_count": 17,
   "metadata": {},
   "outputs": [],
   "source": [
    "from datasets.Dset import *\n",
    "from torch.utils.data import DataLoader, Subset\n",
    "\n",
    "dataset = Dset(IVStest)\n",
    "dataset = Dset(IVStest)\n",
    "batch_size = 10\n",
    "dataloader = DataLoader(dataset, batch_size=batch_size,shuffle=True, drop_last=True)\n",
    "refer_image = next(iter(dataloader))"
   ]
  },
  {
   "cell_type": "code",
   "execution_count": 18,
   "metadata": {},
   "outputs": [
    {
     "ename": "SyntaxError",
     "evalue": "invalid syntax (2235702112.py, line 1)",
     "output_type": "error",
     "traceback": [
      "\u001b[1;36m  Cell \u001b[1;32mIn[18], line 1\u001b[1;36m\u001b[0m\n\u001b[1;33m    dataset.x.\u001b[0m\n\u001b[1;37m              ^\u001b[0m\n\u001b[1;31mSyntaxError\u001b[0m\u001b[1;31m:\u001b[0m invalid syntax\n"
     ]
    }
   ],
   "source": [
    "dataset.x."
   ]
  },
  {
   "cell_type": "code",
   "execution_count": 19,
   "metadata": {},
   "outputs": [
    {
     "data": {
      "text/plain": [
       "torch.Size([10, 8, 8])"
      ]
     },
     "execution_count": 19,
     "metadata": {},
     "output_type": "execute_result"
    }
   ],
   "source": [
    "refer_image.shape"
   ]
  },
  {
   "cell_type": "code",
   "execution_count": 20,
   "metadata": {},
   "outputs": [
    {
     "data": {
      "text/plain": [
       "torch.Tensor"
      ]
     },
     "execution_count": 20,
     "metadata": {},
     "output_type": "execute_result"
    }
   ],
   "source": [
    "pred_test = refer_image * 1.2\n",
    "type(pred_test)"
   ]
  },
  {
   "cell_type": "code",
   "execution_count": 21,
   "metadata": {},
   "outputs": [],
   "source": [
    "def inpainting_error_torch(surfivs, surfivspred, Klist, tlist, savepath, ):\n",
    "    \"\"\"surfivs shape (batch_size, image_size_y, image_size_x)\"\"\"\n",
    "    from matplotlib.ticker import FormatStrFormatter, StrMethodFormatter\n",
    "    import matplotlib.pyplot as plt\n",
    "    import matplotlib.ticker as mtick\n",
    "    import torch\n",
    "    plt.figure(1,figsize=(14,4))\n",
    "    ax=plt.subplot(1,3,1)\n",
    "    # err = np.mean(100 * np.abs((surfivspred - surfivs)/ surfivs), axis =0) \n",
    "    err = torch.mean(100 * torch.abs((surfivspred - surfivs)/ surfivs), dim =0) \n",
    "    plt.title(\"Average relative error\",fontsize=15,y=1.04)\n",
    "    plt.imshow(err.reshape(len(tlist),len(Klist)))\n",
    "    plt.colorbar(format=mtick.PercentFormatter())\n",
    "\n",
    "    ax.set_xticks(np.linspace(0,len(Klist)-1,len(Klist)))\n",
    "    ax.set_xticklabels(Klist.astype('int'))\n",
    "\n",
    "    # ax.set_yticks(np.linspace(0,len(tlist)-1,len(tlist)))\n",
    "    ax.set_yticks(np.linspace(0,len(tlist)-1,len(tlist)))\n",
    "    ax.set_yticklabels([str(round(t,2)) for t in tlist])\n",
    "    # ax.yaxis.set_major_formatter(FormatStrFormatter('%.2f'))\n",
    "    # ax.yaxis.set_major_formatter('{x:9<5.1f}')\n",
    "    # plt.gca().yaxis.set_major_formatter(StrMethodFormatter('{x:,.2f}'))\n",
    "    plt.xlabel(\"Strike\",fontsize=15,labelpad=5)\n",
    "    plt.ylabel(\"Maturity\",fontsize=15,labelpad=5)\n",
    "\n",
    "    ax=plt.subplot(1,3,2)\n",
    "    # err = 100*np.std(np.abs((surfivspred-surfivs)/surfivs),axis = 0)\n",
    "    err = 100*torch.std(torch.abs((surfivspred-surfivs)/surfivs),dim = 0)\n",
    "    plt.title(\"Std relative error\",fontsize=15,y=1.04)\n",
    "    plt.imshow(err.reshape(len(tlist),len(Klist)))\n",
    "    plt.colorbar(format=mtick.PercentFormatter())\n",
    "    ax.set_xticks(np.linspace(0,len(Klist)-1,len(Klist)))\n",
    "    ax.set_xticklabels(Klist.astype('int'))\n",
    "    ax.set_yticks(np.linspace(0,len(tlist)-1,len(tlist)))\n",
    "    ax.set_yticklabels([str(round(t,2)) for t in tlist])\n",
    "    plt.xlabel(\"Strike\",fontsize=15,labelpad=5)\n",
    "    plt.ylabel(\"Maturity\",fontsize=15,labelpad=5)\n",
    "\n",
    "    ax=plt.subplot(1,3,3)\n",
    "    # err = 100*np.max(np.abs((surfivspred-surfivs)/surfivs),axis = 0)\n",
    "    err = 100*torch.max(torch.abs((surfivspred-surfivs)/surfivs),dim = 0)[0]\n",
    "    plt.title(\"Maximum relative error\",fontsize=15,y=1.04)\n",
    "    plt.imshow(err.reshape(len(tlist),len(Klist)))\n",
    "    plt.colorbar(format=mtick.PercentFormatter())\n",
    "    ax.set_xticks(np.linspace(0,len(Klist)-1,len(Klist)))\n",
    "    ax.set_xticklabels(Klist.astype('int'))\n",
    "    ax.set_yticks(np.linspace(0,len(tlist)-1,len(tlist)))\n",
    "    ax.set_yticklabels([str(round(t,2)) for t in tlist])\n",
    "    plt.xlabel(\"Strike\",fontsize=15,labelpad=5)\n",
    "    plt.ylabel(\"Maturity\",fontsize=15,labelpad=5)\n",
    "    plt.tight_layout()\n",
    "    plt.savefig(savepath, dpi=300)\n",
    "    # plt.show()"
   ]
  },
  {
   "cell_type": "code",
   "execution_count": 22,
   "metadata": {},
   "outputs": [
    {
     "data": {
      "image/png": "[encoded data removed]",
      "text/plain": [
       "<Figure size 1400x400 with 6 Axes>"
      ]
     },
     "metadata": {},
     "output_type": "display_data"
    }
   ],
   "source": [
    "# savepath2 = os.path.join(self.args.image_folder, 'ivs_error_inpaintingtest.png')\n",
    "inpainting_error_torch(pred_test, refer_image, Klist, tlist, 'ivs_error_inpaintingtest.png', )"
   ]
  },
  {
   "cell_type": "code",
   "execution_count": 23,
   "metadata": {},
   "outputs": [
    {
     "data": {
      "text/plain": [
       "torch.Size([10, 8, 8])"
      ]
     },
     "execution_count": 23,
     "metadata": {},
     "output_type": "execute_result"
    }
   ],
   "source": [
    "pred_test.shape"
   ]
  },
  {
   "cell_type": "code",
   "execution_count": 24,
   "metadata": {},
   "outputs": [
    {
     "data": {
      "text/plain": [
       "array([0.5       , 0.57142857, 0.64285714, 0.71428571, 0.78571429,\n",
       "       0.85714286, 0.92857143, 1.        ])"
      ]
     },
     "execution_count": 24,
     "metadata": {},
     "output_type": "execute_result"
    }
   ],
   "source": [
    "totalvarsurface\n",
    "tlist"
   ]
  },
  {
   "cell_type": "code",
   "execution_count": 25,
   "metadata": {},
   "outputs": [],
   "source": [
    "tlist_broadcast = tlist.reshape((1, 8, 1))\n",
    "totalvarsurface_scaled = totalvarsurface**2 * tlist_broadcast"
   ]
  },
  {
   "cell_type": "code",
   "execution_count": 26,
   "metadata": {},
   "outputs": [
    {
     "data": {
      "text/plain": [
       "array([[0.65521685, 0.64610361, 0.63688751, 0.6275889 , 0.61823171,\n",
       "        0.6088458 , 0.59946916, 0.59014974],\n",
       "       [0.65032957, 0.64122107, 0.63201047, 0.62271694, 0.61336384,\n",
       "        0.60398078, 0.5946057 , 0.5852867 ],\n",
       "       [0.64553117, 0.63642963, 0.62722626, 0.61793945, 0.60859208,\n",
       "        0.59921361, 0.58984192, 0.58052526],\n",
       "       [0.64082037, 0.63172765, 0.62253314, 0.6132546 , 0.60391461,\n",
       "        0.59454242, 0.58517595, 0.57586354],\n",
       "       [0.63619576, 0.62711351, 0.61792938, 0.60866064, 0.5993296 ,\n",
       "        0.58996541, 0.58060595, 0.5712997 ],\n",
       "       [0.63165582, 0.62258557, 0.61341326, 0.60415581, 0.59483531,\n",
       "        0.58548079, 0.57613014, 0.56683191],\n",
       "       [0.62719904, 0.61814219, 0.60898311, 0.59973841, 0.59042998,\n",
       "        0.58108679, 0.5717467 , 0.56245835],\n",
       "       [0.62282389, 0.61378178, 0.60463727, 0.59540673, 0.58611191,\n",
       "        0.57678167, 0.56745388, 0.55817724]])"
      ]
     },
     "execution_count": 26,
     "metadata": {},
     "output_type": "execute_result"
    }
   ],
   "source": [
    "totalvarsurface[0]"
   ]
  },
  {
   "cell_type": "code",
   "execution_count": 27,
   "metadata": {},
   "outputs": [
    {
     "data": {
      "text/plain": [
       "array([0.21465456, 0.24167345, 0.26788531, 0.29332197, 0.31801396,\n",
       "       0.34199064, 0.36528017, 0.3879096 ])"
      ]
     },
     "execution_count": 27,
     "metadata": {},
     "output_type": "execute_result"
    }
   ],
   "source": [
    "totalvarsurface_scaled[0, :, 0]"
   ]
  },
  {
   "cell_type": "code",
   "execution_count": 28,
   "metadata": {},
   "outputs": [
    {
     "data": {
      "text/plain": [
       "array([[0.21465456, 0.20872494, 0.20281285, 0.19693391, 0.19110522,\n",
       "        0.18534661, 0.17968164, 0.17413836],\n",
       "       [0.24167345, 0.23495112, 0.22824985, 0.22158651, 0.21498012,\n",
       "        0.20845302, 0.20203197, 0.19574887],\n",
       "       [0.26788531, 0.26038457, 0.25290822, 0.24547446, 0.23810421,\n",
       "        0.23082232, 0.22365867, 0.21664901],\n",
       "       [0.29332197, 0.28505702, 0.27681965, 0.26862944, 0.26050918,\n",
       "        0.25248621, 0.24459349, 0.23687059],\n",
       "       [0.31801396, 0.30899892, 0.30001456, 0.29108182, 0.28222541,\n",
       "        0.27347508, 0.26486686, 0.25644406],\n",
       "       [0.34199064, 0.33223953, 0.32252214, 0.31286078, 0.30328204,\n",
       "        0.29381808, 0.28450794, 0.27539864],\n",
       "       [0.36528017, 0.35480693, 0.3443704 , 0.33399429, 0.32370703,\n",
       "        0.31354316, 0.3035447 , 0.2937623 ],\n",
       "       [0.3879096 , 0.37672807, 0.36558623, 0.35450918, 0.34352717,\n",
       "        0.33267709, 0.3220039 , 0.31156184]])"
      ]
     },
     "execution_count": 28,
     "metadata": {},
     "output_type": "execute_result"
    }
   ],
   "source": [
    "totalvarsurface_scaled[0, :, :]\n",
    "# this good!"
   ]
  },
  {
   "cell_type": "code",
   "execution_count": null,
   "metadata": {},
   "outputs": [
    {
     "data": {
      "text/plain": [
       "396618"
      ]
     },
     "execution_count": 112,
     "metadata": {},
     "output_type": "execute_result"
    }
   ],
   "source": [
    "reverse = np.sqrt(totalvarsurface_scaled / tlist_broadcast)\n",
    "booltest= reverse == totalvarsurface\n",
    "# booltest= booltest.astype('int')\n",
    "# sum(booltest)\n",
    "booltest.sum()"
   ]
  },
  {
   "cell_type": "code",
   "execution_count": null,
   "metadata": {},
   "outputs": [
    {
     "data": {
      "text/plain": [
       "(6407, 8, 8)"
      ]
     },
     "execution_count": 115,
     "metadata": {},
     "output_type": "execute_result"
    }
   ],
   "source": [
    "booltest.shape"
   ]
  },
  {
   "cell_type": "code",
   "execution_count": null,
   "metadata": {},
   "outputs": [
    {
     "data": {
      "text/plain": [
       "410048"
      ]
     },
     "execution_count": 116,
     "metadata": {},
     "output_type": "execute_result"
    }
   ],
   "source": [
    "6407 * 64\n",
    "# anyway accept it is ok, I think False are just numerical errors "
   ]
  },
  {
   "cell_type": "code",
   "execution_count": null,
   "metadata": {},
   "outputs": [
    {
     "data": {
      "text/plain": [
       "6253"
      ]
     },
     "execution_count": 100,
     "metadata": {},
     "output_type": "execute_result"
    }
   ],
   "source": [
    "np.unique(booltest[:,1,0])\n",
    "np.sum(booltest[:,1,0])"
   ]
  },
  {
   "cell_type": "code",
   "execution_count": 35,
   "metadata": {},
   "outputs": [],
   "source": [
    "from datasets.Dset import * \n",
    "\n",
    "refer_image\n",
    "\n",
    "loss = Dcondloss_torch(torch.squeeze(refer_image), torch.squeeze(refer_image), tlist)\n",
    "\n",
    "idx = (loss < 3) "
   ]
  },
  {
   "cell_type": "code",
   "execution_count": 42,
   "metadata": {},
   "outputs": [
    {
     "data": {
      "text/plain": [
       "tensor([[[0.5826, 0.5721, 0.5613, 0.5501, 0.5387, 0.5268, 0.5146, 0.5020],\n",
       "         [0.5803, 0.5699, 0.5591, 0.5480, 0.5366, 0.5249, 0.5127, 0.5002],\n",
       "         [0.5780, 0.5676, 0.5570, 0.5460, 0.5347, 0.5230, 0.5109, 0.4985],\n",
       "         [0.5758, 0.5655, 0.5549, 0.5440, 0.5327, 0.5211, 0.5092, 0.4969],\n",
       "         [0.5736, 0.5634, 0.5528, 0.5420, 0.5308, 0.5193, 0.5075, 0.4953],\n",
       "         [0.5715, 0.5613, 0.5508, 0.5401, 0.5290, 0.5176, 0.5058, 0.4937],\n",
       "         [0.5694, 0.5593, 0.5489, 0.5382, 0.5272, 0.5159, 0.5042, 0.4922],\n",
       "         [0.5673, 0.5573, 0.5470, 0.5364, 0.5254, 0.5142, 0.5027, 0.4908]],\n",
       "\n",
       "        [[0.4571, 0.4380, 0.4182, 0.3977, 0.3770, 0.3570, 0.3392, 0.3254],\n",
       "         [0.4631, 0.4448, 0.4259, 0.4065, 0.3869, 0.3680, 0.3507, 0.3366],\n",
       "         [0.4686, 0.4511, 0.4331, 0.4146, 0.3961, 0.3781, 0.3613, 0.3471],\n",
       "         [0.4738, 0.4570, 0.4398, 0.4222, 0.4046, 0.3873, 0.3712, 0.3570],\n",
       "         [0.4787, 0.4626, 0.4460, 0.4292, 0.4124, 0.3959, 0.3803, 0.3663],\n",
       "         [0.4833, 0.4678, 0.4519, 0.4358, 0.4196, 0.4038, 0.3887, 0.3750],\n",
       "         [0.4876, 0.4726, 0.4573, 0.4418, 0.4264, 0.4111, 0.3965, 0.3831],\n",
       "         [0.4917, 0.4772, 0.4624, 0.4475, 0.4326, 0.4180, 0.4038, 0.3907]],\n",
       "\n",
       "        [[0.4951, 0.4939, 0.4927, 0.4915, 0.4903, 0.4892, 0.4880, 0.4870],\n",
       "         [0.4919, 0.4907, 0.4895, 0.4883, 0.4871, 0.4860, 0.4849, 0.4838],\n",
       "         [0.4888, 0.4876, 0.4864, 0.4852, 0.4840, 0.4829, 0.4818, 0.4807],\n",
       "         [0.4857, 0.4845, 0.4833, 0.4821, 0.4810, 0.4799, 0.4788, 0.4777],\n",
       "         [0.4828, 0.4816, 0.4804, 0.4792, 0.4781, 0.4769, 0.4759, 0.4748],\n",
       "         [0.4799, 0.4787, 0.4775, 0.4763, 0.4752, 0.4741, 0.4730, 0.4720],\n",
       "         [0.4771, 0.4759, 0.4747, 0.4736, 0.4724, 0.4713, 0.4703, 0.4692],\n",
       "         [0.4744, 0.4732, 0.4720, 0.4708, 0.4697, 0.4686, 0.4676, 0.4665]],\n",
       "\n",
       "        [[0.7029, 0.7005, 0.6981, 0.6958, 0.6934, 0.6910, 0.6886, 0.6863],\n",
       "         [0.7026, 0.7003, 0.6979, 0.6956, 0.6932, 0.6909, 0.6886, 0.6862],\n",
       "         [0.7023, 0.7000, 0.6977, 0.6954, 0.6931, 0.6908, 0.6885, 0.6862],\n",
       "         [0.7020, 0.6998, 0.6975, 0.6952, 0.6929, 0.6907, 0.6884, 0.6861],\n",
       "         [0.7018, 0.6995, 0.6973, 0.6950, 0.6928, 0.6906, 0.6883, 0.6861],\n",
       "         [0.7015, 0.6993, 0.6971, 0.6949, 0.6927, 0.6904, 0.6882, 0.6860],\n",
       "         [0.7013, 0.6991, 0.6969, 0.6947, 0.6925, 0.6903, 0.6882, 0.6860],\n",
       "         [0.7010, 0.6989, 0.6967, 0.6946, 0.6924, 0.6902, 0.6881, 0.6859]],\n",
       "\n",
       "        [[0.5604, 0.5527, 0.5457, 0.5394, 0.5342, 0.5300, 0.5271, 0.5255],\n",
       "         [0.5604, 0.5530, 0.5462, 0.5402, 0.5351, 0.5310, 0.5281, 0.5263],\n",
       "         [0.5604, 0.5533, 0.5468, 0.5410, 0.5360, 0.5320, 0.5290, 0.5272],\n",
       "         [0.5605, 0.5536, 0.5473, 0.5417, 0.5369, 0.5329, 0.5300, 0.5281],\n",
       "         [0.5605, 0.5539, 0.5478, 0.5424, 0.5377, 0.5339, 0.5309, 0.5290],\n",
       "         [0.5606, 0.5542, 0.5483, 0.5431, 0.5385, 0.5347, 0.5318, 0.5298],\n",
       "         [0.5607, 0.5545, 0.5488, 0.5437, 0.5393, 0.5356, 0.5327, 0.5307],\n",
       "         [0.5607, 0.5548, 0.5493, 0.5444, 0.5401, 0.5364, 0.5336, 0.5315]],\n",
       "\n",
       "        [[0.5815, 0.5717, 0.5624, 0.5538, 0.5462, 0.5398, 0.5348, 0.5312],\n",
       "         [0.5804, 0.5709, 0.5620, 0.5537, 0.5464, 0.5401, 0.5351, 0.5315],\n",
       "         [0.5793, 0.5702, 0.5616, 0.5537, 0.5466, 0.5405, 0.5356, 0.5319],\n",
       "         [0.5784, 0.5696, 0.5613, 0.5537, 0.5468, 0.5408, 0.5360, 0.5323],\n",
       "         [0.5775, 0.5690, 0.5610, 0.5537, 0.5470, 0.5412, 0.5364, 0.5327],\n",
       "         [0.5767, 0.5685, 0.5608, 0.5537, 0.5472, 0.5416, 0.5369, 0.5332],\n",
       "         [0.5759, 0.5680, 0.5606, 0.5537, 0.5475, 0.5420, 0.5374, 0.5336],\n",
       "         [0.5752, 0.5676, 0.5605, 0.5538, 0.5477, 0.5424, 0.5378, 0.5341]],\n",
       "\n",
       "        [[0.5508, 0.5459, 0.5411, 0.5362, 0.5315, 0.5267, 0.5221, 0.5175],\n",
       "         [0.5591, 0.5545, 0.5499, 0.5453, 0.5408, 0.5363, 0.5319, 0.5276],\n",
       "         [0.5666, 0.5622, 0.5579, 0.5535, 0.5492, 0.5450, 0.5408, 0.5367],\n",
       "         [0.5734, 0.5693, 0.5651, 0.5610, 0.5569, 0.5529, 0.5489, 0.5449],\n",
       "         [0.5797, 0.5757, 0.5717, 0.5678, 0.5639, 0.5601, 0.5562, 0.5525],\n",
       "         [0.5854, 0.5816, 0.5778, 0.5740, 0.5703, 0.5666, 0.5630, 0.5593],\n",
       "         [0.5906, 0.5870, 0.5833, 0.5797, 0.5762, 0.5726, 0.5691, 0.5656],\n",
       "         [0.5954, 0.5919, 0.5884, 0.5850, 0.5815, 0.5781, 0.5747, 0.5714]],\n",
       "\n",
       "        [[0.5164, 0.5057, 0.4948, 0.4838, 0.4728, 0.4618, 0.4511, 0.4408],\n",
       "         [0.5153, 0.5046, 0.4938, 0.4828, 0.4718, 0.4609, 0.4503, 0.4400],\n",
       "         [0.5141, 0.5035, 0.4928, 0.4819, 0.4709, 0.4601, 0.4495, 0.4393],\n",
       "         [0.5130, 0.5025, 0.4918, 0.4809, 0.4701, 0.4593, 0.4487, 0.4385],\n",
       "         [0.5120, 0.5014, 0.4908, 0.4800, 0.4692, 0.4585, 0.4479, 0.4378],\n",
       "         [0.5109, 0.5004, 0.4898, 0.4791, 0.4684, 0.4577, 0.4472, 0.4371],\n",
       "         [0.5098, 0.4994, 0.4889, 0.4782, 0.4675, 0.4569, 0.4465, 0.4365],\n",
       "         [0.5088, 0.4984, 0.4879, 0.4773, 0.4667, 0.4561, 0.4458, 0.4358]],\n",
       "\n",
       "        [[0.4851, 0.4707, 0.4565, 0.4431, 0.4309, 0.4206, 0.4129, 0.4082],\n",
       "         [0.4901, 0.4764, 0.4630, 0.4502, 0.4386, 0.4287, 0.4210, 0.4159],\n",
       "         [0.4948, 0.4818, 0.4690, 0.4569, 0.4458, 0.4362, 0.4286, 0.4232],\n",
       "         [0.4993, 0.4869, 0.4747, 0.4631, 0.4525, 0.4432, 0.4357, 0.4301],\n",
       "         [0.5036, 0.4916, 0.4800, 0.4690, 0.4588, 0.4498, 0.4423, 0.4366],\n",
       "         [0.5076, 0.4961, 0.4850, 0.4744, 0.4647, 0.4559, 0.4486, 0.4428],\n",
       "         [0.5114, 0.5004, 0.4897, 0.4796, 0.4701, 0.4617, 0.4544, 0.4486],\n",
       "         [0.5149, 0.5044, 0.4941, 0.4844, 0.4753, 0.4671, 0.4600, 0.4541]],\n",
       "\n",
       "        [[0.3570, 0.3475, 0.3380, 0.3288, 0.3205, 0.3135, 0.3083, 0.3052],\n",
       "         [0.3575, 0.3481, 0.3387, 0.3296, 0.3214, 0.3144, 0.3092, 0.3061],\n",
       "         [0.3580, 0.3486, 0.3393, 0.3304, 0.3222, 0.3153, 0.3101, 0.3069],\n",
       "         [0.3584, 0.3492, 0.3400, 0.3311, 0.3231, 0.3162, 0.3110, 0.3077],\n",
       "         [0.3589, 0.3497, 0.3406, 0.3319, 0.3239, 0.3171, 0.3119, 0.3085],\n",
       "         [0.3593, 0.3502, 0.3412, 0.3326, 0.3248, 0.3180, 0.3128, 0.3093],\n",
       "         [0.3597, 0.3507, 0.3418, 0.3334, 0.3256, 0.3189, 0.3137, 0.3101],\n",
       "         [0.3601, 0.3512, 0.3424, 0.3341, 0.3264, 0.3198, 0.3145, 0.3109]]])"
      ]
     },
     "execution_count": 42,
     "metadata": {},
     "output_type": "execute_result"
    }
   ],
   "source": [
    "refer_image"
   ]
  },
  {
   "cell_type": "code",
   "execution_count": 37,
   "metadata": {},
   "outputs": [],
   "source": [
    "idx[1] = False"
   ]
  },
  {
   "cell_type": "code",
   "execution_count": 39,
   "metadata": {},
   "outputs": [],
   "source": [
    "check = refer_image[idx]"
   ]
  },
  {
   "cell_type": "code",
   "execution_count": 44,
   "metadata": {},
   "outputs": [
    {
     "data": {
      "text/plain": [
       "tensor([[[0.0000, 0.0000, 0.0000, 0.0000, 0.0000, 0.0000, 0.0000, 0.0000],\n",
       "         [0.0000, 0.0000, 0.0000, 0.0000, 0.0000, 0.0000, 0.0000, 0.0000],\n",
       "         [0.0000, 0.0000, 0.0000, 0.0000, 0.0000, 0.0000, 0.0000, 0.0000],\n",
       "         [0.0000, 0.0000, 0.0000, 0.0000, 0.0000, 0.0000, 0.0000, 0.0000],\n",
       "         [0.0000, 0.0000, 0.0000, 0.0000, 0.0000, 0.0000, 0.0000, 0.0000],\n",
       "         [0.0000, 0.0000, 0.0000, 0.0000, 0.0000, 0.0000, 0.0000, 0.0000],\n",
       "         [0.0000, 0.0000, 0.0000, 0.0000, 0.0000, 0.0000, 0.0000, 0.0000],\n",
       "         [0.0000, 0.0000, 0.0000, 0.0000, 0.0000, 0.0000, 0.0000, 0.0000]],\n",
       "\n",
       "        [[0.4571, 0.4380, 0.4182, 0.3977, 0.3770, 0.3570, 0.3392, 0.3254],\n",
       "         [0.4631, 0.4448, 0.4259, 0.4065, 0.3869, 0.3680, 0.3507, 0.3366],\n",
       "         [0.4686, 0.4511, 0.4331, 0.4146, 0.3961, 0.3781, 0.3613, 0.3471],\n",
       "         [0.4738, 0.4570, 0.4398, 0.4222, 0.4046, 0.3873, 0.3712, 0.3570],\n",
       "         [0.4787, 0.4626, 0.4460, 0.4292, 0.4124, 0.3959, 0.3803, 0.3663],\n",
       "         [0.4833, 0.4678, 0.4519, 0.4358, 0.4196, 0.4038, 0.3887, 0.3750],\n",
       "         [0.4876, 0.4726, 0.4573, 0.4418, 0.4264, 0.4111, 0.3965, 0.3831],\n",
       "         [0.4917, 0.4772, 0.4624, 0.4475, 0.4326, 0.4180, 0.4038, 0.3907]],\n",
       "\n",
       "        [[0.0000, 0.0000, 0.0000, 0.0000, 0.0000, 0.0000, 0.0000, 0.0000],\n",
       "         [0.0000, 0.0000, 0.0000, 0.0000, 0.0000, 0.0000, 0.0000, 0.0000],\n",
       "         [0.0000, 0.0000, 0.0000, 0.0000, 0.0000, 0.0000, 0.0000, 0.0000],\n",
       "         [0.0000, 0.0000, 0.0000, 0.0000, 0.0000, 0.0000, 0.0000, 0.0000],\n",
       "         [0.0000, 0.0000, 0.0000, 0.0000, 0.0000, 0.0000, 0.0000, 0.0000],\n",
       "         [0.0000, 0.0000, 0.0000, 0.0000, 0.0000, 0.0000, 0.0000, 0.0000],\n",
       "         [0.0000, 0.0000, 0.0000, 0.0000, 0.0000, 0.0000, 0.0000, 0.0000],\n",
       "         [0.0000, 0.0000, 0.0000, 0.0000, 0.0000, 0.0000, 0.0000, 0.0000]],\n",
       "\n",
       "        [[0.0000, 0.0000, 0.0000, 0.0000, 0.0000, 0.0000, 0.0000, 0.0000],\n",
       "         [0.0000, 0.0000, 0.0000, 0.0000, 0.0000, 0.0000, 0.0000, 0.0000],\n",
       "         [0.0000, 0.0000, 0.0000, 0.0000, 0.0000, 0.0000, 0.0000, 0.0000],\n",
       "         [0.0000, 0.0000, 0.0000, 0.0000, 0.0000, 0.0000, 0.0000, 0.0000],\n",
       "         [0.0000, 0.0000, 0.0000, 0.0000, 0.0000, 0.0000, 0.0000, 0.0000],\n",
       "         [0.0000, 0.0000, 0.0000, 0.0000, 0.0000, 0.0000, 0.0000, 0.0000],\n",
       "         [0.0000, 0.0000, 0.0000, 0.0000, 0.0000, 0.0000, 0.0000, 0.0000],\n",
       "         [0.0000, 0.0000, 0.0000, 0.0000, 0.0000, 0.0000, 0.0000, 0.0000]],\n",
       "\n",
       "        [[0.0000, 0.0000, 0.0000, 0.0000, 0.0000, 0.0000, 0.0000, 0.0000],\n",
       "         [0.0000, 0.0000, 0.0000, 0.0000, 0.0000, 0.0000, 0.0000, 0.0000],\n",
       "         [0.0000, 0.0000, 0.0000, 0.0000, 0.0000, 0.0000, 0.0000, 0.0000],\n",
       "         [0.0000, 0.0000, 0.0000, 0.0000, 0.0000, 0.0000, 0.0000, 0.0000],\n",
       "         [0.0000, 0.0000, 0.0000, 0.0000, 0.0000, 0.0000, 0.0000, 0.0000],\n",
       "         [0.0000, 0.0000, 0.0000, 0.0000, 0.0000, 0.0000, 0.0000, 0.0000],\n",
       "         [0.0000, 0.0000, 0.0000, 0.0000, 0.0000, 0.0000, 0.0000, 0.0000],\n",
       "         [0.0000, 0.0000, 0.0000, 0.0000, 0.0000, 0.0000, 0.0000, 0.0000]],\n",
       "\n",
       "        [[0.0000, 0.0000, 0.0000, 0.0000, 0.0000, 0.0000, 0.0000, 0.0000],\n",
       "         [0.0000, 0.0000, 0.0000, 0.0000, 0.0000, 0.0000, 0.0000, 0.0000],\n",
       "         [0.0000, 0.0000, 0.0000, 0.0000, 0.0000, 0.0000, 0.0000, 0.0000],\n",
       "         [0.0000, 0.0000, 0.0000, 0.0000, 0.0000, 0.0000, 0.0000, 0.0000],\n",
       "         [0.0000, 0.0000, 0.0000, 0.0000, 0.0000, 0.0000, 0.0000, 0.0000],\n",
       "         [0.0000, 0.0000, 0.0000, 0.0000, 0.0000, 0.0000, 0.0000, 0.0000],\n",
       "         [0.0000, 0.0000, 0.0000, 0.0000, 0.0000, 0.0000, 0.0000, 0.0000],\n",
       "         [0.0000, 0.0000, 0.0000, 0.0000, 0.0000, 0.0000, 0.0000, 0.0000]],\n",
       "\n",
       "        [[0.0000, 0.0000, 0.0000, 0.0000, 0.0000, 0.0000, 0.0000, 0.0000],\n",
       "         [0.0000, 0.0000, 0.0000, 0.0000, 0.0000, 0.0000, 0.0000, 0.0000],\n",
       "         [0.0000, 0.0000, 0.0000, 0.0000, 0.0000, 0.0000, 0.0000, 0.0000],\n",
       "         [0.0000, 0.0000, 0.0000, 0.0000, 0.0000, 0.0000, 0.0000, 0.0000],\n",
       "         [0.0000, 0.0000, 0.0000, 0.0000, 0.0000, 0.0000, 0.0000, 0.0000],\n",
       "         [0.0000, 0.0000, 0.0000, 0.0000, 0.0000, 0.0000, 0.0000, 0.0000],\n",
       "         [0.0000, 0.0000, 0.0000, 0.0000, 0.0000, 0.0000, 0.0000, 0.0000],\n",
       "         [0.0000, 0.0000, 0.0000, 0.0000, 0.0000, 0.0000, 0.0000, 0.0000]],\n",
       "\n",
       "        [[0.0000, 0.0000, 0.0000, 0.0000, 0.0000, 0.0000, 0.0000, 0.0000],\n",
       "         [0.0000, 0.0000, 0.0000, 0.0000, 0.0000, 0.0000, 0.0000, 0.0000],\n",
       "         [0.0000, 0.0000, 0.0000, 0.0000, 0.0000, 0.0000, 0.0000, 0.0000],\n",
       "         [0.0000, 0.0000, 0.0000, 0.0000, 0.0000, 0.0000, 0.0000, 0.0000],\n",
       "         [0.0000, 0.0000, 0.0000, 0.0000, 0.0000, 0.0000, 0.0000, 0.0000],\n",
       "         [0.0000, 0.0000, 0.0000, 0.0000, 0.0000, 0.0000, 0.0000, 0.0000],\n",
       "         [0.0000, 0.0000, 0.0000, 0.0000, 0.0000, 0.0000, 0.0000, 0.0000],\n",
       "         [0.0000, 0.0000, 0.0000, 0.0000, 0.0000, 0.0000, 0.0000, 0.0000]],\n",
       "\n",
       "        [[0.0000, 0.0000, 0.0000, 0.0000, 0.0000, 0.0000, 0.0000, 0.0000],\n",
       "         [0.0000, 0.0000, 0.0000, 0.0000, 0.0000, 0.0000, 0.0000, 0.0000],\n",
       "         [0.0000, 0.0000, 0.0000, 0.0000, 0.0000, 0.0000, 0.0000, 0.0000],\n",
       "         [0.0000, 0.0000, 0.0000, 0.0000, 0.0000, 0.0000, 0.0000, 0.0000],\n",
       "         [0.0000, 0.0000, 0.0000, 0.0000, 0.0000, 0.0000, 0.0000, 0.0000],\n",
       "         [0.0000, 0.0000, 0.0000, 0.0000, 0.0000, 0.0000, 0.0000, 0.0000],\n",
       "         [0.0000, 0.0000, 0.0000, 0.0000, 0.0000, 0.0000, 0.0000, 0.0000],\n",
       "         [0.0000, 0.0000, 0.0000, 0.0000, 0.0000, 0.0000, 0.0000, 0.0000]],\n",
       "\n",
       "        [[0.0000, 0.0000, 0.0000, 0.0000, 0.0000, 0.0000, 0.0000, 0.0000],\n",
       "         [0.0000, 0.0000, 0.0000, 0.0000, 0.0000, 0.0000, 0.0000, 0.0000],\n",
       "         [0.0000, 0.0000, 0.0000, 0.0000, 0.0000, 0.0000, 0.0000, 0.0000],\n",
       "         [0.0000, 0.0000, 0.0000, 0.0000, 0.0000, 0.0000, 0.0000, 0.0000],\n",
       "         [0.0000, 0.0000, 0.0000, 0.0000, 0.0000, 0.0000, 0.0000, 0.0000],\n",
       "         [0.0000, 0.0000, 0.0000, 0.0000, 0.0000, 0.0000, 0.0000, 0.0000],\n",
       "         [0.0000, 0.0000, 0.0000, 0.0000, 0.0000, 0.0000, 0.0000, 0.0000],\n",
       "         [0.0000, 0.0000, 0.0000, 0.0000, 0.0000, 0.0000, 0.0000, 0.0000]]])"
      ]
     },
     "execution_count": 44,
     "metadata": {},
     "output_type": "execute_result"
    }
   ],
   "source": [
    "refer_image[idx] = 0 \n",
    "refer_image\n"
   ]
  },
  {
   "cell_type": "code",
   "execution_count": 32,
   "metadata": {},
   "outputs": [
    {
     "data": {
      "text/plain": [
       "array([0.5       , 0.57142857, 0.64285714, 0.71428571, 0.78571429,\n",
       "       0.85714286, 0.92857143, 1.        ])"
      ]
     },
     "execution_count": 32,
     "metadata": {},
     "output_type": "execute_result"
    }
   ],
   "source": []
  }
 ],
 "metadata": {
  "kernelspec": {
   "display_name": "pytorch",
   "language": "python",
   "name": "python3"
  },
  "language_info": {
   "codemirror_mode": {
    "name": "ipython",
    "version": 3
   },
   "file_extension": ".py",
   "mimetype": "text/x-python",
   "name": "python",
   "nbconvert_exporter": "python",
   "pygments_lexer": "ipython3",
   "version": "3.9.16"
  },
  "orig_nbformat": 4,
  "vscode": {
   "interpreter": {
    "hash": "7789b6f643234f6308d38e292d2dfeb321252a899d74fec1b2649e67622f5aa2"
   }
  }
 },
 "nbformat": 4,
 "nbformat_minor": 2
}
